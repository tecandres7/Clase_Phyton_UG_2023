{
 "cells": [
  {
   "cell_type": "code",
   "execution_count": 29,
   "metadata": {},
   "outputs": [],
   "source": [
    "import pandas as pd\n",
    "import numpy as np\n",
    "from faker import Faker\n",
    "import random\n",
    "import datetime\n",
    "import boto3\n",
    "import botocore\n",
    "import pprint\n",
    "import psycopg2\n",
    "import configparser\n",
    "\n",
    "import sql_queries\n"
   ]
  },
  {
   "cell_type": "markdown",
   "metadata": {},
   "source": [
    "#### Iniciación de Variables"
   ]
  },
  {
   "cell_type": "code",
   "execution_count": 30,
   "metadata": {},
   "outputs": [],
   "source": [
    "cantidad_clientes = np.random.randint(500, 1000) #cantidad de clientes a crear\n",
    "rdsIdentifier = 'banco-db-v1' #nombre de la instancia\n",
    "fake = Faker() #inicialización para creación de data random"
   ]
  },
  {
   "cell_type": "markdown",
   "metadata": {},
   "source": [
    "#### Cargamos archivo de configuraciones"
   ]
  },
  {
   "cell_type": "code",
   "execution_count": 31,
   "metadata": {},
   "outputs": [
    {
     "data": {
      "text/plain": [
       "['escec.cfg']"
      ]
     },
     "execution_count": 31,
     "metadata": {},
     "output_type": "execute_result"
    }
   ],
   "source": [
    "config = configparser.ConfigParser()\n",
    "config.read('escec.cfg')"
   ]
  },
  {
   "cell_type": "markdown",
   "metadata": {},
   "source": [
    "### Creamos Instancia de RDS "
   ]
  },
  {
   "cell_type": "code",
   "execution_count": 32,
   "metadata": {},
   "outputs": [],
   "source": [
    "aws_conn = boto3.client('rds', aws_access_key_id=config.get('IAM', 'ACCESS_KEY'),\n",
    "                     aws_secret_access_key=config.get('IAM', 'SECRET_ACCESS_KEY'),\n",
    "                     region_name='us-east-1')"
   ]
  },
  {
   "cell_type": "markdown",
   "metadata": {},
   "source": [
    "#### Verificamos Instancias de RDS disponibles"
   ]
  },
  {
   "cell_type": "code",
   "execution_count": 33,
   "metadata": {},
   "outputs": [
    {
     "name": "stdout",
     "output_type": "stream",
     "text": [
      "DBInstanceIds ['banco-db']\n"
     ]
    }
   ],
   "source": [
    "rdsInstanceIds = []\n",
    "\n",
    "response = aws_conn.describe_db_instances()\n",
    "for resp in response['DBInstances']:\n",
    "    rdsInstanceIds.append(resp['DBInstanceIdentifier'])\n",
    "    db_instance_status = resp['DBInstanceStatus']\n",
    "\n",
    "print(f\"DBInstanceIds {rdsInstanceIds}\")"
   ]
  },
  {
   "cell_type": "markdown",
   "metadata": {},
   "source": [
    "#### Creación de Servicio RDS"
   ]
  },
  {
   "cell_type": "code",
   "execution_count": 36,
   "metadata": {},
   "outputs": [
    {
     "name": "stdout",
     "output_type": "stream",
     "text": [
      "La Instancia de Base de Datos ya Existe.\n"
     ]
    }
   ],
   "source": [
    "try:\n",
    "    response = aws_conn.create_db_instance(\n",
    "            AllocatedStorage=10,\n",
    "            DBName=config.get('RDS', 'DB_NAME'),\n",
    "            DBInstanceIdentifier=rdsIdentifier,\n",
    "            DBInstanceClass=\"db.t3.micro\",\n",
    "            Engine=\"postgres\",\n",
    "            MasterUsername=config.get('RDS', 'DB_USER'),\n",
    "            MasterUserPassword=config.get('RDS', 'DB_PASSWORD'),\n",
    "            Port=int(config.get('RDS', 'DB_PORT')),\n",
    "            VpcSecurityGroupIds=[\"sg-0f6ce64d4649109a1\", \"sg-0f6ce64d4649109a1\"],\n",
    "            PubliclyAccessible=True\n",
    "        )\n",
    "    pprint.pprint (response)\n",
    "except aws_conn.exceptions.DBInstanceAlreadyExistsFault as ex:\n",
    "    print(\"La Instancia de Base de Datos ya Existe.\")"
   ]
  },
  {
   "cell_type": "markdown",
   "metadata": {},
   "source": [
    "##### Recordemos Esperar unos minutos para consultar la informaicón de la instancia."
   ]
  },
  {
   "cell_type": "markdown",
   "metadata": {},
   "source": [
    "##### Obtenemos URL del Host"
   ]
  },
  {
   "cell_type": "code",
   "execution_count": 37,
   "metadata": {},
   "outputs": [
    {
     "name": "stdout",
     "output_type": "stream",
     "text": [
      "banco-db-v1.cnelrr1vhuaq.us-east-1.rds.amazonaws.com\n"
     ]
    }
   ],
   "source": [
    "try:\n",
    "     instances = aws_conn.describe_db_instances(DBInstanceIdentifier=rdsIdentifier)\n",
    "     RDS_HOST = instances.get('DBInstances')[0].get('Endpoint').get('Address')\n",
    "     print(RDS_HOST)\n",
    "except Exception as ex:\n",
    "     print(\"La instancia de base de datos no existe o aun no se ha terminado de crear.\")\n",
    "     print(ex)"
   ]
  },
  {
   "cell_type": "code",
   "execution_count": 38,
   "metadata": {},
   "outputs": [
    {
     "name": "stdout",
     "output_type": "stream",
     "text": [
      "\n",
      "CREATE TABLE IF NOT EXISTS tipo_transacciones(\n",
      "    id_tipo_transac INT PRIMARY KEY,\n",
      "    tipo_transaccion VARCHAR(15) UNIQUE\n",
      ");\n",
      "\n",
      "CREATE TABLE IF NOT EXISTS divisas(\n",
      "    id_divisa INT PRIMARY KEY,\n",
      "    nombre_divisa VARCHAR(15) UNIQUE,\n",
      "    simbolo VARCHAR(2) UNIQUE\n",
      ");\n",
      "\n",
      "CREATE TABLE IF NOT EXISTS tipo_documentos(\n",
      "    id_tipo_documento INT PRIMARY KEY,\n",
      "    nombre_tipo_documento VARCHAR(15) UNIQUE\n",
      ");\n",
      "\n",
      "CREATE TABLE IF NOT EXISTS documentos(\n",
      "    id_documento INT PRIMARY KEY,\n",
      "    nombre_documento VARCHAR(50),\n",
      "    uri_documento VARCHAR(100),\n",
      "    fecha_hora_emision TIMESTAMP,\n",
      "    tipo_documento INT,\n",
      "\n",
      "    CONSTRAINT fk_tipo_documento\n",
      "        FOREIGN KEY (tipo_documento)\n",
      "            REFERENCES tipo_documentos(id_tipo_documento)\n",
      "\n",
      ");\n",
      "\n",
      "CREATE TABLE IF NOT EXISTS generos(\n",
      "    id_genero INT PRIMARY KEY,\n",
      "    genero VARCHAR(10) UNIQUE\n",
      ");\n",
      "\n",
      "CREATE TABLE IF NOT EXISTS sectores(\n",
      "    id_sector INT PRIMARY KEY,\n",
      "    nombre VARCHAR(50) UNIQUE,\n",
      "    latitud DOUBLE PRECISION,\n",
      "    longitud DOUBLE PRECISION\n",
      ");\n",
      "\n",
      "CREATE TABLE IF NOT EXISTS direcciones(\n",
      "    id_direccion INT PRIMARY KEY,\n",
      "    no_casa VARCHAR(15),\n",
      "    avenida VARCHAR(50),\n",
      "    calle VARCHAR(50),\n",
      "    zona INT,\n",
      "    id_sector INT,\n",
      "\n",
      "    CONSTRAINT fk_direccion_sector\n",
      "        FOREIGN KEY (id_sector)\n",
      "            REFERENCES sectores(id_sector)\n",
      ");\n",
      "\n",
      "CREATE TABLE IF NOT EXISTS cargos(\n",
      "    id_cargo INT PRIMARY KEY,\n",
      "    titulo_cargo VARCHAR(50)\n",
      ");\n",
      "\n",
      "CREATE TABLE IF NOT EXISTS colaboradores(\n",
      "    id_colaborador INT PRIMARY KEY,\n",
      "    nombre VARCHAR(30),\n",
      "    apellido VARCHAR(30),\n",
      "    id_cargo INT,\n",
      "\n",
      "    CONSTRAINT fk_cargo_colaborador\n",
      "        FOREIGN KEY (id_cargo)\n",
      "            REFERENCES cargos(id_cargo)\n",
      ");\n",
      "\n",
      "CREATE TABLE IF NOT EXISTS sucursales(\n",
      "    id_sucursal INT PRIMARY KEY,\n",
      "    nombre VARCHAR(50) UNIQUE,\n",
      "    id_gerente INT,\n",
      "\n",
      "    CONSTRAINT fk_sucursal_colaborador\n",
      "        FOREIGN KEY (id_gerente)\n",
      "            REFERENCES colaboradores(id_colaborador)\n",
      ");\n",
      "\n",
      "CREATE TABLE IF NOT EXISTS tipos_cuentas(\n",
      "    id_tipo_cuenta INT PRIMARY KEY,\n",
      "    tipo_cuenta VARCHAR(15) UNIQUE\n",
      ");\n",
      "\n",
      "CREATE TABLE IF NOT EXISTS tarjetas(\n",
      "    id_tarjeta INT PRIMARY KEY,\n",
      "    nombre VARCHAR(50),\n",
      "    vencimiento TIMESTAMP\n",
      ");\n",
      "\n",
      "CREATE TABLE IF NOT EXISTS cuentas(\n",
      "    id_cuenta INT PRIMARY KEY,\n",
      "    nombre_cuenta VARCHAR(75),\n",
      "    id_tipo_cuenta INT,\n",
      "    no_tarjeta INT,\n",
      "\n",
      "    CONSTRAINT fk_cuentas_tipo_cuentas\n",
      "        FOREIGN KEY (id_tipo_cuenta)\n",
      "            REFERENCES tipos_cuentas(id_tipo_cuenta),\n",
      "\n",
      "    CONSTRAINT fk_cuentas_tarjeta\n",
      "        FOREIGN KEY (no_tarjeta)\n",
      "            REFERENCES tarjetas(id_tarjeta)\n",
      ");\n",
      "\n",
      "CREATE TABLE IF NOT EXISTS clientes(\n",
      "    id_cliente INT PRIMARY KEY,\n",
      "    nombre VARCHAR(100),\n",
      "    apellido VARCHAR(100),\n",
      "    correo VARCHAR(100),\n",
      "    fecha_nacimiento DATE,\n",
      "    telefono VARCHAR(20),\n",
      "    id_direccion INT,\n",
      "    id_genero INT,\n",
      "\n",
      "    CONSTRAINT fk_clientes_generos\n",
      "        FOREIGN KEY (id_genero)\n",
      "            REFERENCES generos(id_genero),\n",
      "\n",
      "    CONSTRAINT fk_cliente_direccion\n",
      "        FOREIGN KEY (id_direccion)\n",
      "            REFERENCES direcciones(id_direccion)\n",
      ");\n",
      "\n",
      "CREATE TABLE IF NOT EXISTS cuentas_clientes(\n",
      "    id_cuenta INT,\n",
      "    id_cliente INT,\n",
      "    fecha_creacion TIMESTAMP,\n",
      "    balance DOUBLE PRECISION,\n",
      "\n",
      "    CONSTRAINT pk_cuentas_clientes\n",
      "        PRIMARY KEY (id_cuenta, id_cliente),\n",
      "\n",
      "    CONSTRAINT fk_cuentas_clientes\n",
      "        FOREIGN KEY (id_cuenta)\n",
      "            REFERENCES cuentas(id_cuenta),\n",
      "\n",
      "    CONSTRAINT fk_clientes_cuetnas\n",
      "        FOREIGN KEY (id_cliente)\n",
      "            REFERENCES clientes(id_cliente)\n",
      ");\n",
      "\n",
      "CREATE TABLE IF NOT EXISTS cuentas(\n",
      "    id_cuentas INT PRIMARY KEY,\n",
      "    nombre_cuenta VARCHAR(50),\n",
      "    id_tipo_cuenta INT,\n",
      "    id_no_tarjeta INT,\n",
      "\n",
      "    CONSTRAINT fk_cuentas_tipoCuentas\n",
      "        FOREIGN KEY (id_tipo_cuenta)\n",
      "            REFERENCES tipos_cuentas(id_tipo_cuenta),\n",
      "\n",
      "    CONSTRAINT fk_cuentas_noTarjeta\n",
      "        FOREIGN KEY (id_no_tarjeta)\n",
      "            REFERENCES tarjetas(id_tarjeta)\n",
      ");\n",
      "\n",
      "\n",
      "CREATE TABLE IF NOT EXISTS transacciones(\n",
      "    id_transaccion INT PRIMARY KEY,\n",
      "    fecha_hora TIMESTAMP,\n",
      "    monto DOUBLE PRECISION,\n",
      "    no_confirmacion INT UNIQUE,\n",
      "\n",
      "    id_tipo_transaccion INT,\n",
      "    id_divisa INT,\n",
      "    id_cliente INT,\n",
      "    id_documento_respaldo INT,\n",
      "    id_sucursal INT,\n",
      "    id_colaborador INT,\n",
      "    id_cuenta_origen INT,\n",
      "    id_cuenta_destino INT,\n",
      "\n",
      "    CONSTRAINT fk_tipo_transaccion_transaccion\n",
      "        FOREIGN KEY (id_tipo_transaccion)\n",
      "            REFERENCES tipo_transacciones(id_tipo_transac),\n",
      "\n",
      "    CONSTRAINT fk_tipo_divisa_transaccion\n",
      "        FOREIGN KEY (id_divisa)\n",
      "            REFERENCES divisas(id_divisa),\n",
      "\n",
      "    CONSTRAINT fk_cliente_transaccion\n",
      "        FOREIGN KEY (id_cliente)\n",
      "            REFERENCES clientes(id_cliente),\n",
      "\n",
      "    CONSTRAINT fk_documento_transaccion\n",
      "        FOREIGN KEY (id_documento_respaldo)\n",
      "            REFERENCES documentos(id_documento),\n",
      "\n",
      "    CONSTRAINT fk_sucursal_transaccion\n",
      "        FOREIGN KEY (id_sucursal)\n",
      "            REFERENCES sucursales(id_sucursal),\n",
      "\n",
      "    CONSTRAINT fk_colaborador_transaccion\n",
      "        FOREIGN KEY (id_colaborador)\n",
      "            REFERENCES colaboradores(id_colaborador),\n",
      "\n",
      "    CONSTRAINT fk_cuentaOrigen_transaccion\n",
      "        FOREIGN KEY (id_cuenta_origen)\n",
      "            REFERENCES cuentas(id_cuenta),\n",
      "\n",
      "    CONSTRAINT fk_cuentaDestino_transaccion\n",
      "        FOREIGN KEY (id_cuenta_destino)\n",
      "            REFERENCES cuentas(id_cuenta)\n",
      ");\n",
      "\n",
      "SELECT * FROM tipo_transacciones;\n",
      "SELECT * FROM divisas; \n"
     ]
    }
   ],
   "source": [
    "import sql_queries\n",
    "print(sql_queries.DDL_QUERY)"
   ]
  },
  {
   "cell_type": "markdown",
   "metadata": {},
   "source": [
    "##### Conexión a Base de Datos desde Python"
   ]
  },
  {
   "cell_type": "code",
   "execution_count": 39,
   "metadata": {},
   "outputs": [
    {
     "name": "stdout",
     "output_type": "stream",
     "text": [
      "Base de Datos Creada Exitosamente\n"
     ]
    }
   ],
   "source": [
    "import sql_queries\n",
    "\n",
    "try:\n",
    "    db_conn = psycopg2.connect(\n",
    "        database=config.get('RDS', 'DB_NAME'), \n",
    "        user=config.get('RDS', 'DB_USER'),\n",
    "        password=config.get('RDS', 'DB_PASSWORD'), \n",
    "        host=RDS_HOST,\n",
    "        port=config.get('RDS', 'DB_PORT')\n",
    "    )\n",
    "\n",
    "    cursor = db_conn.cursor()\n",
    "    cursor.execute(sql_queries.DDL_QUERY)\n",
    "    db_conn.commit()\n",
    "    print(\"Base de Datos Creada Exitosamente\")\n",
    "except Exception as ex:\n",
    "    print(\"ERROR: Error al crear la base de datos.\")\n",
    "    print(ex)"
   ]
  },
  {
   "cell_type": "markdown",
   "metadata": {},
   "source": [
    "##### Insertamos Datos en la Tabla de Transacciones"
   ]
  },
  {
   "cell_type": "code",
   "execution_count": 40,
   "metadata": {},
   "outputs": [],
   "source": [
    "    #driver de conexión para insert desde pandas.\n",
    "\n",
    "def insertDataToSQL(data_dict, table_name):\n",
    "     postgres_driver = f\"\"\"postgresql://{config.get('RDS', 'DB_USER')}:{config.get('RDS', 'DB_PASSWORD')}@{RDS_HOST}:{config.get('RDS', 'DB_PORT')}/{config.get('RDS', 'DB_NAME')}\"\"\"    \n",
    "     df_data = pd.DataFrame.from_records(data_dict)\n",
    "     try:\n",
    "          response = df_data.to_sql(table_name, postgres_driver, index=False, if_exists='append')\n",
    "          print(f'Se han insertado {response} nuevos registros.' )\n",
    "     except Exception as ex:\n",
    "          print(ex)"
   ]
  },
  {
   "cell_type": "code",
   "execution_count": 41,
   "metadata": {},
   "outputs": [
    {
     "name": "stdout",
     "output_type": "stream",
     "text": [
      "Se han insertado 4 nuevos registros.\n"
     ]
    }
   ],
   "source": [
    "data_tipo_transaciones = [\n",
    "     {'id_tipo_transac': 85095, 'tipo_transaccion': 'Depóito'}, \n",
    "     {'id_tipo_transac': 85098, 'tipo_transaccion': 'Retiro'},\n",
    "     {'id_tipo_transac': 85194, 'tipo_transaccion': 'Transferencia'},\n",
    "     {'id_tipo_transac': 85133, 'tipo_transaccion': 'Pago Prestamo'}\n",
    "]\n",
    "\n",
    "#insertamos data en tabla tipo_transaccione \n",
    "insertDataToSQL(data_tipo_transaciones, 'tipo_transacciones')"
   ]
  },
  {
   "cell_type": "markdown",
   "metadata": {},
   "source": [
    "##### Insertamos Datos en la Tabla de Divisas"
   ]
  },
  {
   "cell_type": "markdown",
   "metadata": {},
   "source": [
    "#### Insertamos Data para Divisas"
   ]
  },
  {
   "cell_type": "code",
   "execution_count": 42,
   "metadata": {},
   "outputs": [
    {
     "name": "stdout",
     "output_type": "stream",
     "text": [
      "Se han insertado 3 nuevos registros.\n"
     ]
    }
   ],
   "source": [
    "data_divisas = [\n",
    "     {'id_divisa': 103589, 'nombre_divisa': 'Quetzales', 'simbolo': 'Q'}, \n",
    "     {'id_divisa': 114589, 'nombre_divisa': 'Dolares', 'simbolo': '$'},\n",
    "     {'id_divisa': 125487, 'nombre_divisa': 'Euros', 'simbolo': '€'}\n",
    "]\n",
    "\n",
    "insertDataToSQL(data_divisas, 'divisas')"
   ]
  },
  {
   "cell_type": "markdown",
   "metadata": {},
   "source": [
    "##### Insertamos Data para tipo_documentos"
   ]
  },
  {
   "cell_type": "code",
   "execution_count": 43,
   "metadata": {},
   "outputs": [
    {
     "name": "stdout",
     "output_type": "stream",
     "text": [
      "Se han insertado 3 nuevos registros.\n"
     ]
    }
   ],
   "source": [
    "data_tipo_documentos = [\n",
    "     {'id_tipo_documento': 103589, 'nombre_tipo_documento': 'Recibo'}, \n",
    "     {'id_tipo_documento': 114589, 'nombre_tipo_documento': 'Cheque'},\n",
    "     {'id_tipo_documento': 125487, 'nombre_tipo_documento': 'Contrato 101' }\n",
    "]\n",
    "\n",
    "insertDataToSQL(data_tipo_documentos, 'tipo_documentos')\n"
   ]
  },
  {
   "cell_type": "markdown",
   "metadata": {},
   "source": [
    "##### Insertamos Data para Generos"
   ]
  },
  {
   "cell_type": "code",
   "execution_count": 44,
   "metadata": {},
   "outputs": [
    {
     "name": "stdout",
     "output_type": "stream",
     "text": [
      "Se han insertado 2 nuevos registros.\n"
     ]
    }
   ],
   "source": [
    "data_generos = [\n",
    "     {'id_genero': 2002, 'genero': 'Maculino'}, \n",
    "     {'id_genero': 2003, 'genero': 'Femenino'}\n",
    "]\n",
    "\n",
    "insertDataToSQL(data_generos, 'generos')"
   ]
  },
  {
   "cell_type": "markdown",
   "metadata": {},
   "source": [
    "##### Insertamos Data para Sectores"
   ]
  },
  {
   "cell_type": "code",
   "execution_count": 45,
   "metadata": {},
   "outputs": [
    {
     "name": "stdout",
     "output_type": "stream",
     "text": [
      "Se han insertado 7 nuevos registros.\n"
     ]
    }
   ],
   "source": [
    "data_sectores = [\n",
    "    {'id_sector': 58974, 'nombre': 'Centro', 'latitud': 90.5689, 'longitud': 91.5687},\n",
    "    {'id_sector': 58978, 'nombre': 'Centro Sur', 'latitud': 90.5981, 'longitud': 91.56878},\n",
    "    {'id_sector': 58998, 'nombre': 'Centro Norte', 'latitud': 90.59875, 'longitud': 91.59897},\n",
    "    {'id_sector': 58784, 'nombre': 'Sur Este', 'latitud': 90.78785, 'longitud': 91.4578},\n",
    "    {'id_sector': 78786, 'nombre': 'Norte Este', 'latitud': 90.5689, 'longitud': 91.5687},\n",
    "    {'id_sector': 56565, 'nombre': 'Sur Oeste', 'latitud': 90.4412, 'longitud': 91.9897},\n",
    "    {'id_sector': 58889, 'nombre': 'Norte Oeste', 'latitud': 90.78745, 'longitud': 91.78897}\n",
    "]\n",
    "insertDataToSQL(data_sectores, 'sectores')"
   ]
  },
  {
   "cell_type": "markdown",
   "metadata": {},
   "source": [
    "##### Insertamos Data para Direcciones"
   ]
  },
  {
   "cell_type": "code",
   "execution_count": 46,
   "metadata": {},
   "outputs": [
    {
     "name": "stdout",
     "output_type": "stream",
     "text": [
      "Se han insertado 724 nuevos registros.\n"
     ]
    }
   ],
   "source": [
    "data_direcciones = []\n",
    "\n",
    "for index, direccion in enumerate(range(cantidad_clientes)):\n",
    "    sector_random = random.sample(data_sectores,1)\n",
    "    nueva_direccion = {\n",
    "          'id_direccion': index,\n",
    "          'no_casa': str(np.random.randint(1, 99)) + '-' + str(np.random.randint(1, 99)),\n",
    "          'avenida': np.random.randint(1, 45),\n",
    "          'calle':np.random.randint(1, 50),\n",
    "          'zona':np.random.randint(1, 21),\n",
    "          'id_sector' : sector_random[0]['id_sector']\n",
    "    }\n",
    "\n",
    "    data_direcciones.append(nueva_direccion)\n",
    "\n",
    "insertDataToSQL(data_direcciones, 'direcciones')"
   ]
  },
  {
   "cell_type": "markdown",
   "metadata": {},
   "source": [
    "##### Insertamos Data para Clientes"
   ]
  },
  {
   "cell_type": "code",
   "execution_count": null,
   "metadata": {},
   "outputs": [],
   "source": [
    "data_clientes = []\n",
    "data_direcciones_copy = data_direcciones.copy()\n",
    "\n",
    "for cliente in range(cantidad_clientes):\n",
    "    clientProfile = fake.profile()\n",
    "    direccion_random = random.sample(data_direcciones_copy, 1)\n",
    "    data_direcciones_copy.remove(direccion_random[0])\n",
    "\n",
    "    nuevo_cliente = {\n",
    "        'id_cliente': random.randint(10000000, 99999999),\n",
    "        'nombre': clientProfile['name'].split(' ')[0],\n",
    "        'apellido': clientProfile['name'].split(' ')[1],\n",
    "        'correo': clientProfile['mail'],\n",
    "        'fecha_nacimiento': clientProfile['birthdate'],\n",
    "        'telefono': clientProfile['ssn'],\n",
    "        'id_direccion': direccion_random[0]['id_direccion'],\n",
    "        'id_genero': data_generos[0]['id_genero'] if(clientProfile['sex'] == 'M') else data_generos[1]['id_genero'] \n",
    "    }\n",
    "\n",
    "    data_clientes.append(nuevo_cliente)\n",
    "\n",
    "insertDataToSQL(data_clientes, 'clientes')"
   ]
  },
  {
   "cell_type": "markdown",
   "metadata": {},
   "source": [
    "##### Insertamos Data de Cargos"
   ]
  },
  {
   "cell_type": "code",
   "execution_count": 47,
   "metadata": {},
   "outputs": [
    {
     "name": "stdout",
     "output_type": "stream",
     "text": [
      "Se han insertado 3 nuevos registros.\n"
     ]
    }
   ],
   "source": [
    "data_cargos = [\n",
    "    {'id_cargo': 101, 'titulo_cargo': 'Cajero - Receptor'},\n",
    "    {'id_cargo': 202, 'titulo_cargo': 'Gerente de Sucursal'},\n",
    "    {'id_cargo': 302, 'titulo_cargo': 'Supervisor de Sector'}\n",
    "]\n",
    "insertDataToSQL(data_cargos, 'cargos')"
   ]
  },
  {
   "cell_type": "markdown",
   "metadata": {},
   "source": [
    "##### Insertamos Data de Colaboradores"
   ]
  },
  {
   "cell_type": "code",
   "execution_count": 48,
   "metadata": {},
   "outputs": [],
   "source": [
    "cantidad_colaboradores = np.random.randint(50, 150)\n",
    "\n",
    "for colab in range(cantidad_colaboradores):\n",
    "    colaboradorProfile = fake.profile()\n",
    "    nuevo_colaborador = {\n",
    "        'id_colaborador': random.randint(1000, 9999),\n",
    "        'nombre': colaboradorProfile['name'].split(' ')[0],\n",
    "        'apellido': colaboradorProfile['name'].split(' ')[1], \n",
    "        'id_cargo' : random.sample(data_cargos, 1)\n",
    "    }"
   ]
  },
  {
   "cell_type": "code",
   "execution_count": null,
   "metadata": {},
   "outputs": [],
   "source": []
  },
  {
   "cell_type": "code",
   "execution_count": null,
   "metadata": {},
   "outputs": [],
   "source": []
  },
  {
   "cell_type": "code",
   "execution_count": 49,
   "metadata": {},
   "outputs": [
    {
     "data": {
      "text/plain": [
       "653"
      ]
     },
     "execution_count": 49,
     "metadata": {},
     "output_type": "execute_result"
    }
   ],
   "source": [
    "direccion_random = random.sample(data_direcciones,1)\n",
    "data_direcciones.remove(direccion_random[0])\n",
    "direccion_random[0]['id_direccion']"
   ]
  },
  {
   "cell_type": "code",
   "execution_count": 51,
   "metadata": {},
   "outputs": [
    {
     "ename": "NameError",
     "evalue": "name 'clientProfile' is not defined",
     "output_type": "error",
     "traceback": [
      "\u001b[1;31m---------------------------------------------------------------------------\u001b[0m",
      "\u001b[1;31mNameError\u001b[0m                                 Traceback (most recent call last)",
      "Cell \u001b[1;32mIn[51], line 1\u001b[0m\n\u001b[1;32m----> 1\u001b[0m \u001b[43mclientProfile\u001b[49m\n\u001b[0;32m      3\u001b[0m \u001b[38;5;28mprint\u001b[39m(apellido)\n",
      "\u001b[1;31mNameError\u001b[0m: name 'clientProfile' is not defined"
     ]
    }
   ],
   "source": [
    "clientProfile\n",
    "\n",
    "print(apellido)"
   ]
  },
  {
   "cell_type": "code",
   "execution_count": null,
   "metadata": {},
   "outputs": [],
   "source": [
    "transaccion = {\n",
    "    'id_tipo_tranaccion':  random.randint(101, 111),\n",
    "    'fecha':  fake.date_between_dates(datetime.date(2020, 1, 1), datetime.date(2022, 12, 31)),\n",
    "    'hora': datetime.time(random.randint(0, 23), random.randint(0, 60), random.randint(0, 60)),\n",
    "    'monto': random.uniform(1000, 1000000),\n",
    "    'no_confirmacion': random.randint(100000, 999999),\n",
    "    'id_divisa': random.randint(2001, 2003)\n",
    "}"
   ]
  },
  {
   "cell_type": "code",
   "execution_count": 52,
   "metadata": {},
   "outputs": [
    {
     "ename": "NameError",
     "evalue": "name 'transaccion' is not defined",
     "output_type": "error",
     "traceback": [
      "\u001b[1;31m---------------------------------------------------------------------------\u001b[0m",
      "\u001b[1;31mNameError\u001b[0m                                 Traceback (most recent call last)",
      "Cell \u001b[1;32mIn[52], line 1\u001b[0m\n\u001b[1;32m----> 1\u001b[0m \u001b[43mtransaccion\u001b[49m\n",
      "\u001b[1;31mNameError\u001b[0m: name 'transaccion' is not defined"
     ]
    }
   ],
   "source": [
    "transaccion"
   ]
  },
  {
   "cell_type": "code",
   "execution_count": null,
   "metadata": {},
   "outputs": [],
   "source": []
  },
  {
   "cell_type": "code",
   "execution_count": null,
   "metadata": {},
   "outputs": [],
   "source": []
  }
 ],
 "metadata": {
  "kernelspec": {
   "display_name": "Python 3 (ipykernel)",
   "language": "python",
   "name": "python3"
  },
  "language_info": {
   "codemirror_mode": {
    "name": "ipython",
    "version": 3
   },
   "file_extension": ".py",
   "mimetype": "text/x-python",
   "name": "python",
   "nbconvert_exporter": "python",
   "pygments_lexer": "ipython3",
   "version": "3.10.9"
  },
  "vscode": {
   "interpreter": {
    "hash": "48168050f1fe731b302b63a744aad32afdf0a66ee6e49905924ec3fd4edeb196"
   }
  }
 },
 "nbformat": 4,
 "nbformat_minor": 2
}
