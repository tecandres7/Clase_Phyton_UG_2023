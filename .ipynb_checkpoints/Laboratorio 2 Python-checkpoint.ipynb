{
 "cells": [
  {
   "cell_type": "markdown",
   "id": "01a1c35f",
   "metadata": {},
   "source": [
    "###  Laboratorio 2 \n",
    "####  Ciencia de Datos con Python\n",
    "####  Andrés Alberto Peña Maltez"
   ]
  },
  {
   "cell_type": "markdown",
   "id": "2034795a",
   "metadata": {},
   "source": [
    "### Inciso 1"
   ]
  },
  {
   "cell_type": "code",
   "execution_count": 4,
   "id": "78a504b2",
   "metadata": {},
   "outputs": [],
   "source": [
    "import numpy as np\n",
    "import sys \n",
    "import pandas as pd\n",
    "import matplotlib.pyplot as plt\n",
    "import math\n",
    "import datetime"
   ]
  },
  {
   "cell_type": "code",
   "execution_count": 5,
   "id": "951aeb1f",
   "metadata": {},
   "outputs": [
    {
     "name": "stdout",
     "output_type": "stream",
     "text": [
      "Error de ingreso de dato: El número de segundos debe ser positivo.\n",
      "Horas: 1, Minutos: 37, Segundos: 51\n"
     ]
    }
   ],
   "source": [
    "def convertir_segundos(segundos):\n",
    "    try:\n",
    "        if segundos < 0:\n",
    "            raise ValueError(\"El número de segundos debe ser positivo.\")\n",
    "        \n",
    "        horas = segundos // 3600  ## Realiza una división y luego redondea hacia abajo el resultado al número entero más cercano\n",
    "        segundos_restantes = segundos % 3600 ## Deja siempre el residuo\n",
    "        minutos = segundos_restantes // 60\n",
    "        segundos_final = segundos_restantes % 60\n",
    "        \n",
    "        print(f\"Horas: {horas}, Minutos: {minutos}, Segundos: {segundos_final}\")\n",
    "        \n",
    "    except ValueError as e:\n",
    "        print(f\"Error de ingreso de dato: {e}\")\n",
    "\n",
    "# Prueba de función\n",
    "convertir_segundos(-2)\n",
    "convertir_segundos(5871)"
   ]
  },
  {
   "cell_type": "markdown",
   "id": "ffce6e55",
   "metadata": {},
   "source": [
    "### Inciso 3"
   ]
  },
  {
   "cell_type": "code",
   "execution_count": 21,
   "id": "10cf461f",
   "metadata": {},
   "outputs": [
    {
     "name": "stdout",
     "output_type": "stream",
     "text": [
      "La edad aproximada es de: 37 años, 4 meses y 16 días.\n"
     ]
    }
   ],
   "source": [
    "def calcular_edad(dia_nac, mes_nac, anio_nac):\n",
    "    fecha_nac = datetime.date(anio_nac, mes_nac, dia_nac)  ##crear un objeto de fecha a partir de la fecha de nacimiento proporcionada\n",
    "    fecha_actual = datetime.date.today()  ##capturamos la fecha actual\n",
    "    edad = fecha_actual - fecha_nac  #\n",
    "    \n",
    "    anos = edad.days // 365\n",
    "    dias_restantes = edad.days % 365\n",
    "    meses = dias_restantes // 30\n",
    "    dias_final = dias_restantes % 30\n",
    "    \n",
    "    print(f\"La edad aproximada es de: {anos} años, {meses} meses y {dias_final} días.\")\n",
    "\n",
    "# Prueba de función\n",
    "calcular_edad(26, 11, 1985)"
   ]
  },
  {
   "cell_type": "markdown",
   "id": "35a670a8",
   "metadata": {},
   "source": [
    "### Inciso 4"
   ]
  },
  {
   "cell_type": "code",
   "execution_count": 38,
   "id": "0a22a204",
   "metadata": {},
   "outputs": [
    {
     "name": "stdout",
     "output_type": "stream",
     "text": [
      "15122230\n"
     ]
    }
   ],
   "source": [
    "def tupla_a_string(tupla):\n",
    "    resultado = \"\"\n",
    "    for componente in tupla:\n",
    "        resultado += str(componente)\n",
    "    return resultado\n",
    "\n",
    "# Prueba de función\n",
    "entrada = (15, 1, 22, 23, 0)\n",
    "salida = tupla_a_string(entrada)\n",
    "print(salida) "
   ]
  },
  {
   "cell_type": "markdown",
   "id": "d160cc05",
   "metadata": {},
   "source": [
    "### Inciso 5"
   ]
  },
  {
   "cell_type": "code",
   "execution_count": 28,
   "id": "556d57d9",
   "metadata": {},
   "outputs": [
    {
     "name": "stdout",
     "output_type": "stream",
     "text": [
      "[('X',), ('a', 'b'), 'd']\n"
     ]
    }
   ],
   "source": [
    "def eliminar_tuplas_vacias(lista):\n",
    "    return [tupla for tupla in lista if tupla]  ## \"if tupla\" evalúa a False para las tuplas vacías, por lo que se eliminan de la lista resultante\n",
    "    \n",
    "\n",
    "# Prueba de función\n",
    "lista = [(), (), ('X',), ('a', 'b'), (), ('d')]\n",
    "lista_limpia = eliminar_tuplas_vacias(lista)\n",
    "print(lista_sin_vacias)"
   ]
  },
  {
   "cell_type": "markdown",
   "id": "cba8dda8",
   "metadata": {},
   "source": [
    "### Inciso 6"
   ]
  },
  {
   "cell_type": "code",
   "execution_count": null,
   "id": "3dcc9ea8",
   "metadata": {},
   "outputs": [],
   "source": [
    "facturas_pendientes = {}\n",
    "\n",
    "while True:\n",
    "    print(\"\\n¿Qué acción desea realizar?\")\n",
    "    print(\"1. Añadir una nueva factura\")\n",
    "    print(\"2. Pagar una factura existente\")\n",
    "    print(\"3. Imprimir diccionario de facturas\")\n",
    "    print(\"4. Terminar\")\n",
    "\n",
    "    accion = input(\"Ingrese el número de la acción que desea realizar: \")\n",
    "\n",
    "    if accion == \"1\":\n",
    "        while True:\n",
    "            try:\n",
    "                num_factura = input(\"Ingrese el número de la factura (debe ser un número de 4 dígitos): \")\n",
    "                if len(num_factura) != 4:\n",
    "                    raise ValueError\n",
    "                coste_factura = float(input(\"Ingrese el coste de la factura: \"))\n",
    "                if coste_factura < 0:\n",
    "                    raise ValueError\n",
    "                break\n",
    "            except ValueError:\n",
    "                print(\"\\nError: debe ingresar un número de factura de 4 dígitos y un coste válido (mayor o igual a 0).\")\n",
    "        facturas_pendientes[num_factura] = coste_factura\n",
    "        print(\"\\nFactura añadida correctamente.\\nFacturas pendientes de cobro:\", facturas_pendientes)\n",
    "    elif accion == \"2\":\n",
    "        num_factura = input(\"Ingrese el número de la factura que desea pagar: \")\n",
    "        if num_factura in facturas_pendientes:\n",
    "            coste_factura = facturas_pendientes[num_factura]\n",
    "            del facturas_pendientes[num_factura]\n",
    "            print(\"\\nFactura pagada correctamente.\\nFacturas pendientes de cobro:\", facturas_pendientes)\n",
    "        else:\n",
    "            print(\"\\nLa factura ingresada no existe.\")\n",
    "            continue\n",
    "    elif accion == \"3\":\n",
    "        if facturas_pendientes:\n",
    "            print(\"\\nDiccionario de facturas:\")\n",
    "            for factura, monto in facturas_pendientes.items():\n",
    "                print(f\"Factura {factura}: ${monto}\")\n",
    "        else:\n",
    "            print(\"\\nNo hay facturas pendientes.\")\n",
    "    elif accion == \"4\":\n",
    "        print(\"\\n¡Hasta luego!\")\n",
    "        break\n",
    "    else:\n",
    "        print(\"\\nLa acción ingresada no es válida.\")\n",
    "        continue\n",
    "\n",
    "    cantidad_cobrada = sum(facturas_pendientes.values())\n",
    "    cantidad_pendiente = len(facturas_pendientes)\n",
    "    print(\"Cantidad cobrada hasta el momento:\", cantidad_cobrada)\n",
    "    print(\"Cantidad pendiente de cobro:\", cantidad_pendiente)"
   ]
  },
  {
   "cell_type": "code",
   "execution_count": null,
   "id": "2a762290",
   "metadata": {},
   "outputs": [],
   "source": []
  }
 ],
 "metadata": {
  "kernelspec": {
   "display_name": "Python 3 (ipykernel)",
   "language": "python",
   "name": "python3"
  },
  "language_info": {
   "codemirror_mode": {
    "name": "ipython",
    "version": 3
   },
   "file_extension": ".py",
   "mimetype": "text/x-python",
   "name": "python",
   "nbconvert_exporter": "python",
   "pygments_lexer": "ipython3",
   "version": "3.10.9"
  }
 },
 "nbformat": 4,
 "nbformat_minor": 5
}
