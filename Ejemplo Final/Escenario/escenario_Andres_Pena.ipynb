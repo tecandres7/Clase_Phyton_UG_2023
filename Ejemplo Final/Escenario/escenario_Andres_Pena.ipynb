{
 "cells": [
  {
   "cell_type": "code",
   "execution_count": 2,
   "metadata": {},
   "outputs": [],
   "source": [
    "import pandas as pd\n",
    "import numpy as np\n",
    "from faker import Faker\n",
    "import random\n",
    "import datetime\n",
    "import boto3\n",
    "import botocore\n",
    "import pprint\n",
    "import psycopg2\n",
    "import configparser\n",
    "\n",
    "import sql_queries\n"
   ]
  },
  {
   "cell_type": "markdown",
   "metadata": {},
   "source": [
    "#### Iniciación de Variables"
   ]
  },
  {
   "cell_type": "code",
   "execution_count": 3,
   "metadata": {},
   "outputs": [],
   "source": [
    "cantidad_clientes = np.random.randint(500, 1000) #cantidad de clientes a crear\n",
    "rdsIdentifier = 'banco-db-v1' #nombre de la instancia\n",
    "fake = Faker() #inicialización para creación de data random"
   ]
  },
  {
   "cell_type": "markdown",
   "metadata": {},
   "source": [
    "#### Cargamos archivo de configuraciones"
   ]
  },
  {
   "cell_type": "code",
   "execution_count": 4,
   "metadata": {},
   "outputs": [
    {
     "data": {
      "text/plain": [
       "['escec.cfg']"
      ]
     },
     "execution_count": 4,
     "metadata": {},
     "output_type": "execute_result"
    }
   ],
   "source": [
    "config = configparser.ConfigParser()\n",
    "config.read('escec.cfg')"
   ]
  },
  {
   "cell_type": "markdown",
   "metadata": {},
   "source": [
    "### Creamos Instancia de RDS "
   ]
  },
  {
   "cell_type": "code",
   "execution_count": 5,
   "metadata": {},
   "outputs": [],
   "source": [
    "aws_conn = boto3.client('rds', aws_access_key_id=config.get('IAM', 'ACCESS_KEY'),\n",
    "                     aws_secret_access_key=config.get('IAM', 'SECRET_ACCESS_KEY'),\n",
    "                     region_name='us-east-1')"
   ]
  },
  {
   "cell_type": "markdown",
   "metadata": {},
   "source": [
    "#### Verificamos Instancias de RDS disponibles"
   ]
  },
  {
   "cell_type": "code",
   "execution_count": 6,
   "metadata": {},
   "outputs": [
    {
     "name": "stdout",
     "output_type": "stream",
     "text": [
      "DBInstanceIds ['banco-db', 'banco-db-v1']\n"
     ]
    }
   ],
   "source": [
    "rdsInstanceIds = []\n",
    "\n",
    "response = aws_conn.describe_db_instances()\n",
    "for resp in response['DBInstances']:\n",
    "    rdsInstanceIds.append(resp['DBInstanceIdentifier'])\n",
    "    db_instance_status = resp['DBInstanceStatus']\n",
    "\n",
    "print(f\"DBInstanceIds {rdsInstanceIds}\")"
   ]
  },
  {
   "cell_type": "markdown",
   "metadata": {},
   "source": [
    "#### Creación de Servicio RDS"
   ]
  },
  {
   "cell_type": "code",
   "execution_count": 7,
   "metadata": {},
   "outputs": [
    {
     "name": "stdout",
     "output_type": "stream",
     "text": [
      "La Instancia de Base de Datos ya Existe.\n"
     ]
    }
   ],
   "source": [
    "try:\n",
    "    response = aws_conn.create_db_instance(\n",
    "            AllocatedStorage=10,\n",
    "            DBName=config.get('RDS', 'DB_NAME'),\n",
    "            DBInstanceIdentifier=rdsIdentifier,\n",
    "            DBInstanceClass=\"db.t3.micro\",\n",
    "            Engine=\"postgres\",\n",
    "            MasterUsername=config.get('RDS', 'DB_USER'),\n",
    "            MasterUserPassword=config.get('RDS', 'DB_PASSWORD'),\n",
    "            Port=int(config.get('RDS', 'DB_PORT')),\n",
    "            VpcSecurityGroupIds=[\"sg-0f6ce64d4649109a1\", \"sg-0f6ce64d4649109a1\"],\n",
    "            PubliclyAccessible=True\n",
    "        )\n",
    "    pprint.pprint (response)\n",
    "except aws_conn.exceptions.DBInstanceAlreadyExistsFault as ex:\n",
    "    print(\"La Instancia de Base de Datos ya Existe.\")"
   ]
  },
  {
   "cell_type": "markdown",
   "metadata": {},
   "source": [
    "##### Recordemos Esperar unos minutos para consultar la informaicón de la instancia."
   ]
  },
  {
   "cell_type": "markdown",
   "metadata": {},
   "source": [
    "##### Obtenemos URL del Host"
   ]
  },
  {
   "cell_type": "code",
   "execution_count": 8,
   "metadata": {},
   "outputs": [
    {
     "name": "stdout",
     "output_type": "stream",
     "text": [
      "banco-db-v1.cnelrr1vhuaq.us-east-1.rds.amazonaws.com\n"
     ]
    }
   ],
   "source": [
    "try:\n",
    "     instances = aws_conn.describe_db_instances(DBInstanceIdentifier=rdsIdentifier)\n",
    "     RDS_HOST = instances.get('DBInstances')[0].get('Endpoint').get('Address')\n",
    "     print(RDS_HOST)\n",
    "except Exception as ex:\n",
    "     print(\"La instancia de base de datos no existe o aun no se ha terminado de crear.\")\n",
    "     print(ex)"
   ]
  },
  {
   "cell_type": "code",
   "execution_count": 9,
   "metadata": {},
   "outputs": [
    {
     "name": "stdout",
     "output_type": "stream",
     "text": [
      "\n",
      "CREATE TABLE IF NOT EXISTS tipo_transacciones(\n",
      "    id_tipo_transac INT PRIMARY KEY,\n",
      "    tipo_transaccion VARCHAR(15) UNIQUE\n",
      ");\n",
      "\n",
      "CREATE TABLE IF NOT EXISTS divisas(\n",
      "    id_divisa INT PRIMARY KEY,\n",
      "    nombre_divisa VARCHAR(15) UNIQUE,\n",
      "    simbolo VARCHAR(2) UNIQUE\n",
      ");\n",
      "\n",
      "CREATE TABLE IF NOT EXISTS tipo_documentos(\n",
      "    id_tipo_documento INT PRIMARY KEY,\n",
      "    nombre_tipo_documento VARCHAR(15) UNIQUE\n",
      ");\n",
      "\n",
      "CREATE TABLE IF NOT EXISTS documentos(\n",
      "    id_documento INT PRIMARY KEY,\n",
      "    nombre_documento VARCHAR(50),\n",
      "    uri_documento VARCHAR(100),\n",
      "    fecha_hora_emision TIMESTAMP,\n",
      "    tipo_documento INT,\n",
      "\n",
      "    CONSTRAINT fk_tipo_documento\n",
      "        FOREIGN KEY (tipo_documento)\n",
      "            REFERENCES tipo_documentos(id_tipo_documento)\n",
      "\n",
      ");\n",
      "\n",
      "CREATE TABLE IF NOT EXISTS generos(\n",
      "    id_genero INT PRIMARY KEY,\n",
      "    genero VARCHAR(10) UNIQUE\n",
      ");\n",
      "\n",
      "CREATE TABLE IF NOT EXISTS sectores(\n",
      "    id_sector INT PRIMARY KEY,\n",
      "    nombre VARCHAR(50) UNIQUE,\n",
      "    latitud DOUBLE PRECISION,\n",
      "    longitud DOUBLE PRECISION\n",
      ");\n",
      "\n",
      "CREATE TABLE IF NOT EXISTS direcciones(\n",
      "    id_direccion INT PRIMARY KEY,\n",
      "    no_casa VARCHAR(15),\n",
      "    avenida VARCHAR(50),\n",
      "    calle VARCHAR(50),\n",
      "    zona INT,\n",
      "    id_sector INT,\n",
      "\n",
      "    CONSTRAINT fk_direccion_sector\n",
      "        FOREIGN KEY (id_sector)\n",
      "            REFERENCES sectores(id_sector)\n",
      ");\n",
      "\n",
      "CREATE TABLE IF NOT EXISTS cargos(\n",
      "    id_cargo INT PRIMARY KEY,\n",
      "    titulo_cargo VARCHAR(50)\n",
      ");\n",
      "\n",
      "CREATE TABLE IF NOT EXISTS colaboradores(\n",
      "    id_colaborador INT PRIMARY KEY,\n",
      "    nombre VARCHAR(30),\n",
      "    apellido VARCHAR(30),\n",
      "    id_cargo INT,\n",
      "\n",
      "    CONSTRAINT fk_cargo_colaborador\n",
      "        FOREIGN KEY (id_cargo)\n",
      "            REFERENCES cargos(id_cargo)\n",
      ");\n",
      "\n",
      "CREATE TABLE IF NOT EXISTS sucursales(\n",
      "    id_sucursal INT PRIMARY KEY,\n",
      "    nombre VARCHAR(50),\n",
      "    id_sector INT,\n",
      "    id_gerente INT,\n",
      "\n",
      "    CONSTRAINT fk_sucursal_sector\n",
      "        FOREIGN KEY (id_sector)\n",
      "            REFERENCES sectores(id_sector),\n",
      "\n",
      "    CONSTRAINT fk_sucursal_colaborador\n",
      "        FOREIGN KEY (id_gerente)\n",
      "            REFERENCES colaboradores(id_colaborador)\n",
      ");\n",
      "\n",
      "CREATE TABLE IF NOT EXISTS tipos_cuentas(\n",
      "    id_tipo_cuenta INT PRIMARY KEY,\n",
      "    tipo_cuenta VARCHAR(50) UNIQUE\n",
      ");\n",
      "\n",
      "CREATE TABLE IF NOT EXISTS clientes(\n",
      "    id_cliente INT PRIMARY KEY,\n",
      "    nombre VARCHAR(100),\n",
      "    apellido VARCHAR(100),\n",
      "    correo VARCHAR(100),\n",
      "    fecha_nacimiento DATE,\n",
      "    telefono VARCHAR(20),\n",
      "    id_direccion INT,\n",
      "    id_genero INT,\n",
      "\n",
      "    CONSTRAINT fk_clientes_generos\n",
      "        FOREIGN KEY (id_genero)\n",
      "            REFERENCES generos(id_genero),\n",
      "\n",
      "    CONSTRAINT fk_cliente_direccion\n",
      "        FOREIGN KEY (id_direccion)\n",
      "            REFERENCES direcciones(id_direccion)\n",
      ");\n",
      "\n",
      "CREATE TABLE IF NOT EXISTS cuentas(\n",
      "    id_cuenta INT PRIMARY KEY,\n",
      "    nombre_cuenta VARCHAR(100),\n",
      "    balance DOUBLE PRECISION,\n",
      "    id_tipo_cuenta INT,\n",
      "    id_cliente INT,\n",
      "\n",
      "    CONSTRAINT fk_cuentas_tipo_cuentas\n",
      "        FOREIGN KEY (id_tipo_cuenta)\n",
      "            REFERENCES tipos_cuentas(id_tipo_cuenta),\n",
      "    \n",
      "    CONSTRAINT fk_cuentas_clientes\n",
      "        FOREIGN KEY (id_cliente)\n",
      "            REFERENCES clientes(id_cliente)\n",
      ");\n",
      "\n",
      "CREATE TABLE IF NOT EXISTS transacciones(\n",
      "    id_transaccion BIGINT PRIMARY KEY,\n",
      "    fecha_hora TIMESTAMP,\n",
      "    monto DOUBLE PRECISION,\n",
      "\n",
      "    id_tipo_transaccion INT,\n",
      "    id_divisa INT,\n",
      "    id_cliente INT,\n",
      "    id_documento_respaldo INT,\n",
      "    id_sucursal INT,\n",
      "    id_colaborador INT,\n",
      "    id_cuenta_origen INT,\n",
      "    id_cuenta_destino INT,\n",
      "\n",
      "    CONSTRAINT fk_tipo_transaccion_transaccion\n",
      "        FOREIGN KEY (id_tipo_transaccion)\n",
      "            REFERENCES tipo_transacciones(id_tipo_transac),\n",
      "\n",
      "    CONSTRAINT fk_tipo_divisa_transaccion\n",
      "        FOREIGN KEY (id_divisa)\n",
      "            REFERENCES divisas(id_divisa),\n",
      "\n",
      "    CONSTRAINT fk_cliente_transaccion\n",
      "        FOREIGN KEY (id_cliente)\n",
      "            REFERENCES clientes(id_cliente),\n",
      "\n",
      "    CONSTRAINT fk_documento_transaccion\n",
      "        FOREIGN KEY (id_documento_respaldo)\n",
      "            REFERENCES tipo_documentos(id_tipo_documento),\n",
      "\n",
      "    CONSTRAINT fk_sucursal_transaccion\n",
      "        FOREIGN KEY (id_sucursal)\n",
      "            REFERENCES sucursales(id_sucursal),\n",
      "\n",
      "    CONSTRAINT fk_colaborador_transaccion\n",
      "        FOREIGN KEY (id_colaborador)\n",
      "            REFERENCES colaboradores(id_colaborador),\n",
      "\n",
      "    CONSTRAINT fk_cuentaOrigen_transaccion\n",
      "        FOREIGN KEY (id_cuenta_origen)\n",
      "            REFERENCES cuentas(id_cuenta),\n",
      "\n",
      "    CONSTRAINT fk_cuentaDestino_transaccion\n",
      "        FOREIGN KEY (id_cuenta_destino)\n",
      "            REFERENCES cuentas(id_cuenta)\n",
      ");\n",
      "\n",
      "SELECT * FROM tipo_transacciones;\n",
      "SELECT * FROM divisas; \n"
     ]
    }
   ],
   "source": [
    "import sql_queries\n",
    "print(sql_queries.DDL_QUERY)"
   ]
  },
  {
   "cell_type": "markdown",
   "metadata": {},
   "source": [
    "##### Conexión a Base de Datos desde Python"
   ]
  },
  {
   "cell_type": "code",
   "execution_count": 10,
   "metadata": {},
   "outputs": [
    {
     "name": "stdout",
     "output_type": "stream",
     "text": [
      "Base de Datos Creada Exitosamente\n"
     ]
    }
   ],
   "source": [
    "import sql_queries\n",
    "\n",
    "try:\n",
    "    db_conn = psycopg2.connect(\n",
    "        database=config.get('RDS', 'DB_NAME'), \n",
    "        user=config.get('RDS', 'DB_USER'),\n",
    "        password=config.get('RDS', 'DB_PASSWORD'), \n",
    "        host=RDS_HOST,\n",
    "        port=config.get('RDS', 'DB_PORT')\n",
    "    )\n",
    "\n",
    "    cursor = db_conn.cursor()\n",
    "    cursor.execute(sql_queries.DDL_QUERY)\n",
    "    db_conn.commit()\n",
    "    print(\"Base de Datos Creada Exitosamente\")\n",
    "except Exception as ex:\n",
    "    print(\"ERROR: Error al crear la base de datos.\")\n",
    "    print(ex)"
   ]
  },
  {
   "cell_type": "markdown",
   "metadata": {},
   "source": [
    "##### Insertamos Datos en la Tabla de Transacciones"
   ]
  },
  {
   "cell_type": "code",
   "execution_count": 17,
   "metadata": {},
   "outputs": [],
   "source": [
    "    #driver de conexión para insert desde pandas.\n",
    "\n",
    "def insertDataToSQL(data_dict, table_name):\n",
    "     postgres_driver = f\"\"\"postgresql://{config.get('RDS', 'DB_USER')}:{config.get('RDS', 'DB_PASSWORD')}@{RDS_HOST}:{config.get('RDS', 'DB_PORT')}/{config.get('RDS', 'DB_NAME')}\"\"\"    \n",
    "     df_data = pd.DataFrame.from_records(data_dict)\n",
    "     try:\n",
    "          response = df_data.to_sql(table_name, postgres_driver, index=False, if_exists='append')\n",
    "          print(f'Se han insertado {response} nuevos registros.' )\n",
    "     except Exception as ex:\n",
    "          print(ex)"
   ]
  },
  {
   "cell_type": "code",
   "execution_count": 34,
   "metadata": {},
   "outputs": [
    {
     "name": "stdout",
     "output_type": "stream",
     "text": [
      "(psycopg2.errors.UniqueViolation) duplicate key value violates unique constraint \"tipo_transacciones_pkey\"\n",
      "DETAIL:  Key (id_tipo_transac)=(85095) already exists.\n",
      "\n",
      "[SQL: INSERT INTO tipo_transacciones (id_tipo_transac, tipo_transaccion) VALUES (%(id_tipo_transac)s, %(tipo_transaccion)s)]\n",
      "[parameters: ({'id_tipo_transac': 85095, 'tipo_transaccion': 'Depóito'}, {'id_tipo_transac': 85098, 'tipo_transaccion': 'Retiro'}, {'id_tipo_transac': 85194, 'tipo_transaccion': 'Transferencia'}, {'id_tipo_transac': 85133, 'tipo_transaccion': 'Pago Prestamo'})]\n",
      "(Background on this error at: https://sqlalche.me/e/14/gkpj)\n"
     ]
    }
   ],
   "source": [
    "data_tipo_transaciones = [\n",
    "     {'id_tipo_transac': 85095, 'tipo_transaccion': 'Depóito'}, \n",
    "     {'id_tipo_transac': 85098, 'tipo_transaccion': 'Retiro'},\n",
    "     {'id_tipo_transac': 85194, 'tipo_transaccion': 'Transferencia'},\n",
    "     {'id_tipo_transac': 85133, 'tipo_transaccion': 'Pago Prestamo'}\n",
    "]\n",
    "\n",
    "#insertamos data en tabla tipo_transaccione \n",
    "insertDataToSQL(data_tipo_transaciones, 'tipo_transacciones')"
   ]
  },
  {
   "cell_type": "markdown",
   "metadata": {},
   "source": [
    "##### Insertamos Datos en la Tabla de Divisas"
   ]
  },
  {
   "cell_type": "markdown",
   "metadata": {},
   "source": [
    "#### Insertamos Data para Divisas"
   ]
  },
  {
   "cell_type": "code",
   "execution_count": 19,
   "metadata": {},
   "outputs": [
    {
     "name": "stdout",
     "output_type": "stream",
     "text": [
      "Se han insertado 3 nuevos registros.\n"
     ]
    }
   ],
   "source": [
    "data_divisas = [\n",
    "     {'id_divisa': 103589, 'nombre_divisa': 'Quetzales', 'simbolo': 'Q'}, \n",
    "     {'id_divisa': 114589, 'nombre_divisa': 'Dolares', 'simbolo': '$'},\n",
    "     {'id_divisa': 125487, 'nombre_divisa': 'Euros', 'simbolo': '€'}\n",
    "]\n",
    "\n",
    "insertDataToSQL(data_divisas, 'divisas')"
   ]
  },
  {
   "cell_type": "markdown",
   "metadata": {},
   "source": [
    "##### Insertamos Data para tipo_documentos"
   ]
  },
  {
   "cell_type": "code",
   "execution_count": 20,
   "metadata": {},
   "outputs": [
    {
     "name": "stdout",
     "output_type": "stream",
     "text": [
      "Se han insertado 3 nuevos registros.\n"
     ]
    }
   ],
   "source": [
    "data_tipo_documentos = [\n",
    "     {'id_tipo_documento': 103589, 'nombre_tipo_documento': 'Recibo'}, \n",
    "     {'id_tipo_documento': 114589, 'nombre_tipo_documento': 'Cheque'},\n",
    "     {'id_tipo_documento': 125487, 'nombre_tipo_documento': 'Contrato 101' }\n",
    "]\n",
    "\n",
    "insertDataToSQL(data_tipo_documentos, 'tipo_documentos')\n"
   ]
  },
  {
   "cell_type": "markdown",
   "metadata": {},
   "source": [
    "##### Insertamos Data para Generos"
   ]
  },
  {
   "cell_type": "code",
   "execution_count": 21,
   "metadata": {},
   "outputs": [
    {
     "name": "stdout",
     "output_type": "stream",
     "text": [
      "Se han insertado 2 nuevos registros.\n"
     ]
    }
   ],
   "source": [
    "data_generos = [\n",
    "     {'id_genero': 2002, 'genero': 'Maculino'}, \n",
    "     {'id_genero': 2003, 'genero': 'Femenino'}\n",
    "]\n",
    "\n",
    "insertDataToSQL(data_generos, 'generos')"
   ]
  },
  {
   "cell_type": "markdown",
   "metadata": {},
   "source": [
    "##### Insertamos Data para Sectores"
   ]
  },
  {
   "cell_type": "code",
   "execution_count": 22,
   "metadata": {},
   "outputs": [
    {
     "name": "stdout",
     "output_type": "stream",
     "text": [
      "Se han insertado 7 nuevos registros.\n"
     ]
    }
   ],
   "source": [
    "data_sectores = [\n",
    "    {'id_sector': 58974, 'nombre': 'Centro', 'latitud': 90.5689, 'longitud': 91.5687},\n",
    "    {'id_sector': 58978, 'nombre': 'Centro Sur', 'latitud': 90.5981, 'longitud': 91.56878},\n",
    "    {'id_sector': 58998, 'nombre': 'Centro Norte', 'latitud': 90.59875, 'longitud': 91.59897},\n",
    "    {'id_sector': 58784, 'nombre': 'Sur Este', 'latitud': 90.78785, 'longitud': 91.4578},\n",
    "    {'id_sector': 78786, 'nombre': 'Norte Este', 'latitud': 90.5689, 'longitud': 91.5687},\n",
    "    {'id_sector': 56565, 'nombre': 'Sur Oeste', 'latitud': 90.4412, 'longitud': 91.9897},\n",
    "    {'id_sector': 58889, 'nombre': 'Norte Oeste', 'latitud': 90.78745, 'longitud': 91.78897}\n",
    "]\n",
    "insertDataToSQL(data_sectores, 'sectores')"
   ]
  },
  {
   "cell_type": "markdown",
   "metadata": {},
   "source": [
    "##### Insertamos Data para Direcciones"
   ]
  },
  {
   "cell_type": "code",
   "execution_count": 37,
   "metadata": {},
   "outputs": [
    {
     "name": "stdout",
     "output_type": "stream",
     "text": [
      "(psycopg2.errors.UniqueViolation) duplicate key value violates unique constraint \"direcciones_pkey\"\n",
      "DETAIL:  Key (id_direccion)=(0) already exists.\n",
      "\n",
      "[SQL: INSERT INTO direcciones (id_direccion, no_casa, avenida, calle, zona, id_sector) VALUES (%(id_direccion)s, %(no_casa)s, %(avenida)s, %(calle)s, %(zona)s, %(id_sector)s)]\n",
      "[parameters: ({'id_direccion': 0, 'no_casa': '33-23', 'avenida': 32, 'calle': 14, 'zona': 12, 'id_sector': 56565}, {'id_direccion': 1, 'no_casa': '91-73', 'avenida': 34, 'calle': 1, 'zona': 12, 'id_sector': 58889}, {'id_direccion': 2, 'no_casa': '20-27', 'avenida': 37, 'calle': 33, 'zona': 6, 'id_sector': 78786}, {'id_direccion': 3, 'no_casa': '79-25', 'avenida': 19, 'calle': 43, 'zona': 12, 'id_sector': 58978}, {'id_direccion': 4, 'no_casa': '73-13', 'avenida': 29, 'calle': 41, 'zona': 15, 'id_sector': 56565}, {'id_direccion': 5, 'no_casa': '74-13', 'avenida': 22, 'calle': 28, 'zona': 11, 'id_sector': 58978}, {'id_direccion': 6, 'no_casa': '69-83', 'avenida': 24, 'calle': 27, 'zona': 16, 'id_sector': 58998}, {'id_direccion': 7, 'no_casa': '5-90', 'avenida': 28, 'calle': 39, 'zona': 14, 'id_sector': 58998}  ... displaying 10 of 693 total bound parameter sets ...  {'id_direccion': 691, 'no_casa': '93-67', 'avenida': 25, 'calle': 27, 'zona': 8, 'id_sector': 78786}, {'id_direccion': 692, 'no_casa': '28-91', 'avenida': 22, 'calle': 2, 'zona': 18, 'id_sector': 58978})]\n",
      "(Background on this error at: https://sqlalche.me/e/14/gkpj)\n"
     ]
    }
   ],
   "source": [
    "data_direcciones = []\n",
    "\n",
    "for index, direccion in enumerate(range(cantidad_clientes)):\n",
    "    sector_random = random.sample(data_sectores,1)\n",
    "    nueva_direccion = {\n",
    "          'id_direccion': index,\n",
    "          'no_casa': str(np.random.randint(1, 99)) + '-' + str(np.random.randint(1, 99)),\n",
    "          'avenida': np.random.randint(1, 45),\n",
    "          'calle':np.random.randint(1, 50),\n",
    "          'zona':np.random.randint(1, 21),\n",
    "          'id_sector' : sector_random[0]['id_sector']\n",
    "    }\n",
    "\n",
    "    data_direcciones.append(nueva_direccion)\n",
    "\n",
    "insertDataToSQL(data_direcciones, 'direcciones')"
   ]
  },
  {
   "cell_type": "markdown",
   "metadata": {},
   "source": [
    "##### Insertamos Data para Clientes"
   ]
  },
  {
   "cell_type": "code",
   "execution_count": 25,
   "metadata": {},
   "outputs": [
    {
     "name": "stdout",
     "output_type": "stream",
     "text": [
      "Se han insertado 693 nuevos registros.\n"
     ]
    }
   ],
   "source": [
    "data_clientes = []\n",
    "data_direcciones_copy = data_direcciones.copy()\n",
    "\n",
    "for cliente in range(cantidad_clientes):\n",
    "    clientProfile = fake.profile()\n",
    "    direccion_random = random.sample(data_direcciones_copy, 1)\n",
    "    data_direcciones_copy.remove(direccion_random[0])\n",
    "\n",
    "    nuevo_cliente = {\n",
    "        'id_cliente': random.randint(10000000, 99999999),\n",
    "        'nombre': clientProfile['name'].split(' ')[0],\n",
    "        'apellido': clientProfile['name'].split(' ')[1],\n",
    "        'correo': clientProfile['mail'],\n",
    "        'fecha_nacimiento': clientProfile['birthdate'],\n",
    "        'telefono': clientProfile['ssn'],\n",
    "        'id_direccion': direccion_random[0]['id_direccion'],\n",
    "        'id_genero': data_generos[0]['id_genero'] if(clientProfile['sex'] == 'M') else data_generos[1]['id_genero'] \n",
    "    }\n",
    "\n",
    "    data_clientes.append(nuevo_cliente)\n",
    "\n",
    "insertDataToSQL(data_clientes, 'clientes')"
   ]
  },
  {
   "cell_type": "markdown",
   "metadata": {},
   "source": [
    "##### Insertamos Data de Cargos"
   ]
  },
  {
   "cell_type": "code",
   "execution_count": 26,
   "metadata": {},
   "outputs": [
    {
     "name": "stdout",
     "output_type": "stream",
     "text": [
      "Se han insertado 3 nuevos registros.\n"
     ]
    }
   ],
   "source": [
    "data_cargos = [\n",
    "    {'id_cargo': 101, 'titulo_cargo': 'Cajero - Receptor'},\n",
    "    {'id_cargo': 202, 'titulo_cargo': 'Gerente de Sucursal'},\n",
    "    {'id_cargo': 302, 'titulo_cargo': 'Supervisor de Sector'}\n",
    "]\n",
    "insertDataToSQL(data_cargos, 'cargos')"
   ]
  },
  {
   "cell_type": "markdown",
   "metadata": {},
   "source": [
    "##### Insertamos Data de Colaboradores"
   ]
  },
  {
   "cell_type": "code",
   "execution_count": 27,
   "metadata": {},
   "outputs": [
    {
     "name": "stdout",
     "output_type": "stream",
     "text": [
      "Se han insertado 66 nuevos registros.\n"
     ]
    }
   ],
   "source": [
    "cantidad_colaboradores = np.random.randint(50, 150)\n",
    "data_colaboradores = []\n",
    "\n",
    "for colab in range(cantidad_colaboradores):\n",
    "    colaboradorProfile = fake.profile()\n",
    "    nuevo_colaborador = {\n",
    "        'id_colaborador': random.randint(10000, 99999),\n",
    "        'nombre': colaboradorProfile['name'].split(' ')[0],\n",
    "        'apellido': colaboradorProfile['name'].split(' ')[1], \n",
    "        'id_cargo': random.choices(data_cargos, weights=(0.6, 0.3, 0.1),  k=1)[0]['id_cargo']\n",
    "    }\n",
    "\n",
    "    data_colaboradores.append(nuevo_colaborador)\n",
    "insertDataToSQL(data_colaboradores, 'colaboradores')"
   ]
  },
  {
   "cell_type": "markdown",
   "metadata": {},
   "source": [
    "##### Insertamos Data de Sucursales"
   ]
  },
  {
   "cell_type": "code",
   "execution_count": 28,
   "metadata": {},
   "outputs": [
    {
     "name": "stdout",
     "output_type": "stream",
     "text": [
      "Se han insertado 20 nuevos registros.\n"
     ]
    }
   ],
   "source": [
    "managers = [colaborator for colaborator in data_colaboradores if colaborator['id_cargo'] == 202]\n",
    "cantidad_sucursales =  len(managers)\n",
    "managers_copy = managers.copy()\n",
    "data_sucursales = []\n",
    "\n",
    "for sucursal in range(cantidad_sucursales):\n",
    "    #seleccionamos gerente para sucursal\n",
    "    manager = random.sample(managers_copy, 1)[0]\n",
    "    managers_copy.remove(manager)\n",
    "\n",
    "    #seleccionamos sector.\n",
    "    sector_random = random.sample(data_sectores,1)[0]['id_sector']\n",
    "    \n",
    "    #nombre de la sucursal\n",
    "    sucursal_profile = fake.profile()\n",
    "    nombre_sucursal = sucursal_profile['residence'].split('\\n')[0]\n",
    "    nombre_sucursal = ''.join([i for i in nombre_sucursal if not i.isdigit()]).strip()\n",
    "\n",
    "    nueva_sucursal = {\n",
    "        'id_sucursal': np.random.randint(180000, 190000),\n",
    "        'nombre': nombre_sucursal,\n",
    "        'id_sector': sector_random,\n",
    "        'id_gerente': manager['id_colaborador']\n",
    "    }\n",
    "\n",
    "    data_sucursales.append(nueva_sucursal)\n",
    "\n",
    "insertDataToSQL(data_sucursales, 'sucursales')"
   ]
  },
  {
   "cell_type": "markdown",
   "metadata": {},
   "source": [
    "##### Insertamos Datos de tipo_cuentas"
   ]
  },
  {
   "cell_type": "code",
   "execution_count": 29,
   "metadata": {},
   "outputs": [
    {
     "name": "stdout",
     "output_type": "stream",
     "text": [
      "Se han insertado 6 nuevos registros.\n"
     ]
    }
   ],
   "source": [
    "data_tipoCuentas = [\n",
    "    {'id_tipo_cuenta': 90025, 'tipo_cuenta': 'Monetaria Quetzales'},\n",
    "    {'id_tipo_cuenta': 90026, 'tipo_cuenta': 'Monetaria Dolares'},\n",
    "    {'id_tipo_cuenta': 90036, 'tipo_cuenta': 'Ahorro Quetzales'},\n",
    "    {'id_tipo_cuenta': 90078, 'tipo_cuenta': 'Ahorro Dolares'},\n",
    "    {'id_tipo_cuenta': 90044, 'tipo_cuenta': 'Cheques Quetzales'},\n",
    "    {'id_tipo_cuenta': 90019, 'tipo_cuenta': 'Cheques Dolares'}\n",
    "]\n",
    "insertDataToSQL(data_tipoCuentas, 'tipos_cuentas')"
   ]
  },
  {
   "cell_type": "markdown",
   "metadata": {},
   "source": [
    "##### Insertamos Data para Cuentas"
   ]
  },
  {
   "cell_type": "code",
   "execution_count": 30,
   "metadata": {},
   "outputs": [
    {
     "name": "stdout",
     "output_type": "stream",
     "text": [
      "Se han insertado 693 nuevos registros.\n"
     ]
    }
   ],
   "source": [
    "data_cuentas = []\n",
    "df_data_clientes = pd.DataFrame.from_records(data_clientes)\n",
    "\n",
    "for idnex, df_row in df_data_clientes.iterrows():\n",
    "     nombre_cuenta = df_row['nombre'] + ' ' + df_row['apellido']\n",
    "     nueva_cuenta = {\n",
    "          'id_cuenta' : np.random.randint(1000000, 9999999),\n",
    "          'nombre_cuenta' : nombre_cuenta,\n",
    "          'id_tipo_cuenta': random.sample(data_tipoCuentas, 1)[0]['id_tipo_cuenta'],\n",
    "          'balance': round(random.uniform(100, 1000), 2)\n",
    "     }\n",
    "\n",
    "     data_cuentas.append(nueva_cuenta)\n",
    "insertDataToSQL(data_cuentas, 'cuentas')"
   ]
  },
  {
   "cell_type": "markdown",
   "metadata": {},
   "source": [
    "##### Insertamos Data de Transacciones"
   ]
  },
  {
   "cell_type": "code",
   "execution_count": 36,
   "metadata": {},
   "outputs": [
    {
     "name": "stdout",
     "output_type": "stream",
     "text": [
      "Se han insertado 488 nuevos registros.\n"
     ]
    }
   ],
   "source": [
    "cantidad_transacciones = np.random.randint(1000, 20000)\n",
    "data_transacciones = []\n",
    "\n",
    "for transac in range(cantidad_transacciones):\n",
    "    nueva_transaccion = {\n",
    "            'id_transaccion': transac,\n",
    "            'fecha_hora': fake.date_time_this_year(),\n",
    "            'monto': round(random.uniform(1000, 10000), 2),\n",
    "            'id_tipo_transaccion': random.sample(data_tipo_transaciones, 1)[0]['id_tipo_transac'],\n",
    "            'id_divisa':  random.sample(data_divisas, 1)[0]['id_divisa'],\n",
    "            'id_cliente': random.sample(data_clientes, 1)[0]['id_cliente'],\n",
    "            'id_sucursal': random.sample(data_sucursales, 1)[0]['id_sucursal'],\n",
    "            'id_colaborador': random.sample(data_colaboradores, 1)[0]['id_colaborador'],\n",
    "            'id_documento_respaldo': random.sample(data_tipo_documentos, 1)[0]['id_tipo_documento'],\n",
    "            'id_cuenta_origen' : random.sample(data_cuentas, 1)[0]['id_cuenta'],\n",
    "            'id_cuenta_destino':random.sample(data_cuentas, 1)[0]['id_cuenta']\n",
    "        }\n",
    "    \n",
    "    data_transacciones.append(nueva_transaccion)\n",
    "    \n",
    "insertDataToSQL(data_transacciones, 'transacciones')"
   ]
  },
  {
   "cell_type": "code",
   "execution_count": null,
   "metadata": {},
   "outputs": [],
   "source": []
  }
 ],
 "metadata": {
  "kernelspec": {
   "display_name": "Python 3 (ipykernel)",
   "language": "python",
   "name": "python3"
  },
  "language_info": {
   "codemirror_mode": {
    "name": "ipython",
    "version": 3
   },
   "file_extension": ".py",
   "mimetype": "text/x-python",
   "name": "python",
   "nbconvert_exporter": "python",
   "pygments_lexer": "ipython3",
   "version": "3.10.9"
  },
  "vscode": {
   "interpreter": {
    "hash": "48168050f1fe731b302b63a744aad32afdf0a66ee6e49905924ec3fd4edeb196"
   }
  }
 },
 "nbformat": 4,
 "nbformat_minor": 2
}
