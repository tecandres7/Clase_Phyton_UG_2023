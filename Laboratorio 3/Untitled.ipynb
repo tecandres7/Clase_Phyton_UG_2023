{
 "cells": [
  {
   "cell_type": "code",
   "execution_count": null,
   "id": "d0775159",
   "metadata": {},
   "outputs": [],
   "source": []
  },
  {
   "cell_type": "markdown",
   "id": "4249a3b5",
   "metadata": {},
   "source": [
    "#### Problema 1:"
   ]
  },
  {
   "cell_type": "code",
   "execution_count": 5,
   "id": "bdfe6b6d",
   "metadata": {},
   "outputs": [],
   "source": [
    "\n",
    "def segundos_a_tiempo():\n",
    "    try:\n",
    "        segundos = int(segundos_entry.get())\n",
    "        if segundos < 0:\n",
    "            raise ValueError(\"El número de segundos debe ser mayor o igual a cero.\")\n",
    "        horas = segundos / 3600\n",
    "        minutos = (segundos % 3600) / 60\n",
    "        segundos = segundos % 60\n",
    "        resultado_label.config(text=f\"Horas: {horas}, Minutos: {minutos}, Segundos: {segundos}\")\n",
    "    except ValueError as error:\n",
    "        resultado_label.config(text=str(error))\n"
   ]
  },
  {
   "cell_type": "code",
   "execution_count": null,
   "id": "cfdb2b1e",
   "metadata": {},
   "outputs": [],
   "source": []
  },
  {
   "cell_type": "code",
   "execution_count": 6,
   "id": "e158b5e6",
   "metadata": {},
   "outputs": [
    {
     "name": "stdout",
     "output_type": "stream",
     "text": [
      "*      *      *\n",
      "**    **    **\n",
      "***  ***  ***\n",
      "************\n",
      "***  ***  ***\n",
      "**    **    **\n",
      "*      *      *\n"
     ]
    }
   ],
   "source": [
    "def patrones_triangulares(numero, caracter):\n",
    "    if not (1 <= numero <= 20):\n",
    "        print(\"El número debe estar entre 1 y 20.\")\n",
    "        return\n",
    "    for i in range(1, numero+1):\n",
    "        print(caracter * i + \" \" * (numero-i) + \" \" * (numero-i) + caracter * i + \" \" * (numero-i) + \" \" * (numero-i) + caracter * i)\n",
    "    for i in range(numero-1, 0, -1):\n",
    "        print(caracter * i + \" \" * (numero-i) + \" \" * (numero-i) + caracter * i + \" \" * (numero-i) + \" \" * (numero-i) + caracter * i)\n",
    "\n",
    "# Ejemplo de uso\n",
    "patrones_triangulares(4, \"*\")"
   ]
  },
  {
   "cell_type": "markdown",
   "id": "270606c0",
   "metadata": {},
   "source": [
    "Este código define una función patrones_triangulares que recibe un número y un carácter y muestra en pantalla cuatro patrones triangulares. El número debe estar entre 1 y 20, de lo contrario se muestra un mensaje de error. Los patrones triangulares se crean utilizando dos bucles for para iterar sobre las filas, imprimiendo una cadena de caracteres para cada fila.\n",
    "\n",
    "El primer bucle for crea los primeros dos patrones triangulares, iterando desde 1 hasta el número ingresado y creando una cadena de caracteres que consiste en i veces el carácter ingresado, seguido de n-i espacios en blanco, y luego la misma cadena de nuevo, con más espacios en blanco entre ellos.\n",
    "\n",
    "El segundo bucle for crea los dos patrones triangulares restantes, iterando desde el número ingresado menos 1 hasta 1 e imprimiendo una cadena de caracteres de manera similar a la anterior.\n",
    "\n",
    "Para probar la función, simplemente llama la función con un número y un carácter como argumentos, por ejemplo patrones_triangulares(4, \"*\")."
   ]
  },
  {
   "cell_type": "code",
   "execution_count": null,
   "id": "b8f43f5d",
   "metadata": {},
   "outputs": [],
   "source": []
  },
  {
   "cell_type": "code",
   "execution_count": 11,
   "id": "57dbffd1",
   "metadata": {},
   "outputs": [
    {
     "name": "stdout",
     "output_type": "stream",
     "text": [
      "Ingresa tu día de nacimiento: 26\n",
      "Ingresa tu mes de nacimiento: 11\n",
      "Ingresa tu año de nacimiento: 1985\n",
      "Tu edad es: 37 años, -9 meses, 13626 días\n"
     ]
    }
   ],
   "source": [
    "from datetime import date\n",
    "\n",
    "def calcular_edad(dia, mes, anio):\n",
    "    hoy = date.today()\n",
    "    fecha_nacimiento = date(anio, mes, dia)\n",
    "    edad = hoy.year - fecha_nacimiento.year - ((hoy.month, hoy.day) < (fecha_nacimiento.month, fecha_nacimiento.day))\n",
    "    meses = hoy.month - fecha_nacimiento.month\n",
    "    if hoy.day < fecha_nacimiento.day:\n",
    "        meses -= 1\n",
    "    dias = (hoy - fecha_nacimiento).days\n",
    "    return edad, meses, dias\n",
    "\n",
    "# Ejemplo de uso\n",
    "dia = int(input(\"Ingresa tu día de nacimiento: \"))\n",
    "mes = int(input(\"Ingresa tu mes de nacimiento: \"))\n",
    "anio = int(input(\"Ingresa tu año de nacimiento: \"))\n",
    "edad, meses, dias = calcular_edad(dia, mes, anio)\n",
    "print(f\"Tu edad es: {edad} años, {meses} meses, {dias} días\")"
   ]
  },
  {
   "cell_type": "markdown",
   "id": "a2bc15c8",
   "metadata": {},
   "source": [
    "Este código define una función calcular_edad que recibe tres argumentos: el día, mes y año de nacimiento de una persona. Utiliza la librería datetime para obtener la fecha actual (date.today()) y la fecha de nacimiento (date(anio, mes, dia)). A continuación, calcula la edad de la persona en años, usando una resta de años y ajustando el resultado si la persona no ha cumplido todavía su cumpleaños. También calcula la cantidad de meses de la persona, teniendo en cuenta si aún no ha pasado su cumpleaños este año. Finalmente, calcula la cantidad de días de la persona, utilizando la resta de fechas.\n",
    "\n",
    "Para probar el programa, simplemente pide al usuario que ingrese el día, mes y año de su fecha de nacimiento, y llama la función calcular_edad con esos valores. Luego muestra el resultado con una cadena formateada en pantalla."
   ]
  },
  {
   "cell_type": "code",
   "execution_count": null,
   "id": "0bf1c56c",
   "metadata": {},
   "outputs": [],
   "source": []
  },
  {
   "cell_type": "code",
   "execution_count": null,
   "id": "cc6e5dbd",
   "metadata": {},
   "outputs": [],
   "source": [
    "def tupla_a_string(tupla):\n",
    "    string = \"\"\n",
    "    for elemento in tupla:\n",
    "        string += str(elemento)\n",
    "    return string\n",
    "\n",
    "# Ejemplo de uso\n",
    "tupla = (10, 20, 40, 5, 70)\n",
    "resultado = tupla_a_string(tupla)\n",
    "print(resultado)\n"
   ]
  },
  {
   "cell_type": "markdown",
   "id": "6f256990",
   "metadata": {},
   "source": [
    "Este código define una función tupla_a_string que recibe una tupla como argumento. La función itera sobre los elementos de la tupla y convierte cada uno a un string (str(elemento)) para luego concatenarlo al string final (string += str(elemento)). Finalmente, devuelve el string resultante.\n",
    "\n",
    "Para probar el programa, simplemente crea una tupla con los elementos que desees y llama a la función tupla_a_string con esa tupla. Luego muestra el resultado en pantalla.\n"
   ]
  },
  {
   "cell_type": "code",
   "execution_count": 12,
   "id": "df599258",
   "metadata": {},
   "outputs": [
    {
     "name": "stdout",
     "output_type": "stream",
     "text": [
      "[('X',), ('a', 'b'), ('a', 'b', 'c'), 'd']\n"
     ]
    }
   ],
   "source": [
    "def eliminar_tuplas_vacias(lista_tuplas):\n",
    "    return [tupla for tupla in lista_tuplas if tupla]\n",
    "\n",
    "# Ejemplo de uso\n",
    "lista_tuplas = [(), (), ('X',), ('a', 'b'), ('a', 'b', 'c'), ('d')]\n",
    "resultado = eliminar_tuplas_vacias(lista_tuplas)\n",
    "print(resultado)"
   ]
  },
  {
   "cell_type": "markdown",
   "id": "94a9dc39",
   "metadata": {},
   "source": [
    "Este código define una función eliminar_tuplas_vacias que recibe una lista de tuplas como argumento. La función itera sobre cada tupla de la lista y verifica si está vacía (if tupla), si no está vacía, se agrega a una nueva lista de resultados mediante una comprensión de lista ([tupla for tupla in lista_tuplas if tupla]).\n",
    "\n",
    "Para probar el programa, simplemente crea una lista de tuplas con los elementos que desees y llama a la función eliminar_tuplas_vacias con esa lista. Luego muestra el resultado en pantalla."
   ]
  },
  {
   "cell_type": "code",
   "execution_count": null,
   "id": "bd424f8d",
   "metadata": {},
   "outputs": [],
   "source": []
  },
  {
   "cell_type": "code",
   "execution_count": null,
   "id": "ed57d78b",
   "metadata": {},
   "outputs": [],
   "source": [
    "facturas = {}\n",
    "\n",
    "def mostrar_facturas():\n",
    "    print(\"Facturas pendientes:\")\n",
    "    total_pendiente = 0\n",
    "    for factura, coste in facturas.items():\n",
    "        print(f\"Factura {factura}: {coste}\")\n",
    "        total_pendiente += coste\n",
    "    print(f\"Total pendiente: {total_pendiente}\")\n",
    "    print(\"---------------------------\")\n",
    "\n",
    "def anadir_factura():\n",
    "    factura = input(\"Introduce el número de factura (4 dígitos): \")\n",
    "    while len(factura) != 4 or not factura.isdigit():\n",
    "        factura = input(\"Número de factura inválido, vuelve a intentarlo (4 dígitos): \")\n",
    "    coste = float(input(\"Introduce el coste de la factura: \"))\n",
    "    facturas[factura] = coste\n",
    "    mostrar_facturas()\n",
    "\n",
    "def pagar_factura():\n",
    "    factura = input(\"Introduce el número de factura a pagar: \")\n",
    "    while factura not in facturas:\n",
    "        factura = input(\"Número de factura no encontrado, vuelve a intentarlo: \")\n",
    "    coste = facturas.pop(factura)\n",
    "    print(f\"Factura {factura} pagada ({coste})\")\n",
    "    mostrar_facturas()\n",
    "\n",
    "while True:\n",
    "    accion = input(\"¿Qué quieres hacer? (anadir/pagar/terminar): \")\n",
    "    if accion == \"anadir\":\n",
    "        anadir_factura()\n",
    "    elif accion == \"pagar\":\n",
    "        pagar_factura()\n",
    "    elif accion == \"terminar\":\n",
    "        print(\"Saliendo del programa...\")\n",
    "        break\n",
    "    else:\n",
    "        print(\"Acción no válida, vuelve a intentarlo\")\n",
    "    print(\"---------------------------\")\n"
   ]
  },
  {
   "cell_type": "code",
   "execution_count": null,
   "id": "b044083e",
   "metadata": {},
   "outputs": [],
   "source": [
    "Este código define un diccionario llamado facturas para almacenar las facturas pendientes de cobro, y tres funciones para mostrar las facturas pendientes, añadir una nueva factura y pagar una factura existente. El programa principal utiliza un bucle infinito para preguntar al usuario qué acción desea realizar y llama a la función correspondiente. Después de cada operación, el programa muestra la cantidad cobrada hasta el momento y la cantidad pendiente de cobro.\n",
    "\n",
    "Para probar el programa, simplemente ejecuta el código en Python. El programa le preguntará al usuario qué acción desea realizar y le guiará a través del proceso de añadir o pagar facturas. Cuando se haya terminado, el programa mostrará la cantidad total cobrada y la cantidad pendiente de cobro."
   ]
  },
  {
   "cell_type": "code",
   "execution_count": null,
   "id": "fda268a9",
   "metadata": {},
   "outputs": [],
   "source": []
  },
  {
   "cell_type": "code",
   "execution_count": 18,
   "id": "3f68ead6",
   "metadata": {},
   "outputs": [],
   "source": [
    "import random\n",
    "\n",
    "class Baraja:\n",
    "    def __init__(self):\n",
    "        tipos = ['T', 'C', 'P', 'E']\n",
    "        numeros = ['01', '02', '03', '04', '05', '06', '07', '08', '09', '10', '11', '12', '13']\n",
    "        self.cartas = {tipo + '-' + numero for tipo in tipos for numero in numeros}\n",
    "    \n",
    "    def crear_conjuntos(self, n):\n",
    "        conjunto1 = set(random.sample(list(self.cartas), n))\n",
    "        conjunto2 = set(random.sample(list(self.cartas - conjunto1), n))\n",
    "        return conjunto1, conjunto2\n",
    "    \n",
    "    def prob_interseccion(self, conjunto1, conjunto2):\n",
    "        interseccion = conjunto1.intersection(conjunto2)\n",
    "        return len(interseccion) / (len(self.cartas) - len(conjunto1.union(conjunto2)))\n",
    "    \n",
    "    def prob_union(self, conjunto1, conjunto2):\n",
    "        union = conjunto1.union(conjunto2)\n",
    "        return len(union) / len(self.cartas)\n"
   ]
  },
  {
   "cell_type": "markdown",
   "id": "1a0b4ab3",
   "metadata": {},
   "source": [
    "En esta clase, el método __init__ se utiliza para inicializar el set de cartas en la baraja, el método __crear_baraja genera todas las cartas posibles y las añade al set. El método generar_conjuntos_aleatorios recibe como parámetro la longitud de los conjuntos a generar y devuelve dos conjuntos aleatorios de esa longitud. Los métodos calcular_probabilidad_interseccion y calcular_probabilidad_union reciben como parámetro los conjuntos generados y calculan las probabilidades correspondientes.\n",
    "\n",
    "Aquí hay un ejemplo de cómo usar la clase Baraja:"
   ]
  },
  {
   "cell_type": "code",
   "execution_count": 20,
   "id": "f7cfcb15",
   "metadata": {},
   "outputs": [
    {
     "name": "stdout",
     "output_type": "stream",
     "text": [
      "{'C-13', 'T-05', 'P-13', 'P-02', 'C-02', 'E-06', 'T-01', 'C-10', 'C-06', 'P-03', 'E-09', 'C-05', 'P-08', 'T-07', 'T-04', 'T-06', 'E-12', 'T-13', 'E-10', 'E-11', 'T-10', 'E-05', 'T-12', 'C-09', 'P-11', 'E-08', 'E-04', 'P-04', 'C-08', 'C-07', 'P-09', 'E-01', 'E-02', 'E-13', 'C-11', 'C-01', 'P-07', 'P-10', 'T-09', 'P-06', 'P-05', 'T-08', 'E-07', 'E-03', 'T-02', 'T-11', 'T-03', 'P-12', 'C-03', 'C-12', 'P-01', 'C-04'}\n",
      "Conjunto 1: {'E-12', 'T-13', 'P-10', 'E-10', 'P-06'}\n",
      "Conjunto 2: {'P-13', 'T-06', 'E-11', 'E-05', 'E-06'}\n",
      "Probabilidad de la intersección: 0.0\n",
      "Probabilidad de la unión: 0.19230769230769232\n"
     ]
    }
   ],
   "source": [
    "# Creamos una instancia de la clase Baraja\n",
    "mi_baraja = Baraja()\n",
    "\n",
    "# Mostramos las cartas de la baraja\n",
    "print(mi_baraja.cartas)\n",
    "\n",
    "# Creamos dos conjuntos aleatorios de 5 cartas cada uno\n",
    "conjunto1, conjunto2 = mi_baraja.crear_conjuntos(5)\n",
    "\n",
    "# Mostramos los conjuntos creados\n",
    "print(\"Conjunto 1:\", conjunto1)\n",
    "print(\"Conjunto 2:\", conjunto2)\n",
    "\n",
    "# Calculamos la probabilidad de la intersección de los conjuntos creados\n",
    "prob_interseccion = mi_baraja.prob_interseccion(conjunto1, conjunto2)\n",
    "\n",
    "# Mostramos la probabilidad de la intersección\n",
    "print(\"Probabilidad de la intersección:\", prob_interseccion)\n",
    "\n",
    "# Calculamos la probabilidad de la unión de los conjuntos creados\n",
    "prob_union = mi_baraja.prob_union(conjunto1, conjunto2)\n",
    "\n",
    "# Mostramos la probabilidad de la unión\n",
    "print(\"Probabilidad de la unión:\", prob_union)"
   ]
  },
  {
   "cell_type": "code",
   "execution_count": null,
   "id": "3a0271c4",
   "metadata": {},
   "outputs": [],
   "source": []
  }
 ],
 "metadata": {
  "kernelspec": {
   "display_name": "Python 3 (ipykernel)",
   "language": "python",
   "name": "python3"
  },
  "language_info": {
   "codemirror_mode": {
    "name": "ipython",
    "version": 3
   },
   "file_extension": ".py",
   "mimetype": "text/x-python",
   "name": "python",
   "nbconvert_exporter": "python",
   "pygments_lexer": "ipython3",
   "version": "3.10.9"
  }
 },
 "nbformat": 4,
 "nbformat_minor": 5
}
