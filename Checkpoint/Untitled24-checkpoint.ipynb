{
 "cells": [
  {
   "cell_type": "code",
   "execution_count": 1,
   "id": "204610be",
   "metadata": {},
   "outputs": [
    {
     "data": {
      "text/plain": [
       "' Pena'"
      ]
     },
     "execution_count": 1,
     "metadata": {},
     "output_type": "execute_result"
    }
   ],
   "source": [
    "miStr = \"Andres Pena\"\n",
    "miStr[0]\n",
    "miStr[6:11]"
   ]
  },
  {
   "cell_type": "code",
   "execution_count": 2,
   "id": "19d003e8",
   "metadata": {},
   "outputs": [
    {
     "data": {
      "text/plain": [
       "'P'"
      ]
     },
     "execution_count": 2,
     "metadata": {},
     "output_type": "execute_result"
    }
   ],
   "source": [
    "miStr[7]"
   ]
  },
  {
   "cell_type": "code",
   "execution_count": 3,
   "id": "c9e8b000",
   "metadata": {},
   "outputs": [
    {
     "data": {
      "text/plain": [
       "11"
      ]
     },
     "execution_count": 3,
     "metadata": {},
     "output_type": "execute_result"
    }
   ],
   "source": [
    "len(miStr)"
   ]
  },
  {
   "cell_type": "code",
   "execution_count": 4,
   "id": "3b5a1849",
   "metadata": {},
   "outputs": [
    {
     "name": "stdout",
     "output_type": "stream",
     "text": [
      "Ingrese un número:  15\n"
     ]
    }
   ],
   "source": [
    "numero = input(\"Ingrese un número:  \")"
   ]
  },
  {
   "cell_type": "code",
   "execution_count": 7,
   "id": "51e642aa",
   "metadata": {},
   "outputs": [
    {
     "name": "stdout",
     "output_type": "stream",
     "text": [
      "Ingrese un número:  10\n",
      "El numero 10 no es cero!!\n"
     ]
    }
   ],
   "source": [
    "numero = input(\"Ingrese un número:  \")\n",
    "if(numero != 0):\n",
    "        print(f\"El numero {numero} no es cero!!\")\n",
    "else:\n",
    "        print(f\"El numero {numero} es cero!!!\")"
   ]
  },
  {
   "cell_type": "code",
   "execution_count": 12,
   "id": "775d0b13",
   "metadata": {},
   "outputs": [
    {
     "name": "stdout",
     "output_type": "stream",
     "text": [
      "Ingrese un numero de día:  8\n",
      "Ingrese un valor válido\n"
     ]
    }
   ],
   "source": [
    "dia = input(\"Ingrese un numero de día:  \")\n",
    "if(numero == 1):\n",
    "   print(\"El día es lunes\")\n",
    "elif(numero == 3):\n",
    "   print(\"El día es miercoles\")\n",
    "elif(numero == 5):\n",
    "   print(\"El día es viernes\")\n",
    "else:\n",
    "   print (\"Ingrese un valor válido\")"
   ]
  },
  {
   "cell_type": "code",
   "execution_count": null,
   "id": "b386e2ff",
   "metadata": {},
   "outputs": [],
   "source": []
  },
  {
   "cell_type": "code",
   "execution_count": null,
   "id": "a071ce35",
   "metadata": {},
   "outputs": [],
   "source": []
  },
  {
   "cell_type": "code",
   "execution_count": null,
   "id": "8d0cf700",
   "metadata": {},
   "outputs": [],
   "source": []
  },
  {
   "cell_type": "code",
   "execution_count": null,
   "id": "985cab23",
   "metadata": {},
   "outputs": [],
   "source": []
  },
  {
   "cell_type": "code",
   "execution_count": null,
   "id": "c9e308c3",
   "metadata": {},
   "outputs": [],
   "source": []
  },
  {
   "cell_type": "code",
   "execution_count": null,
   "id": "1e80b7bf",
   "metadata": {},
   "outputs": [],
   "source": []
  },
  {
   "cell_type": "code",
   "execution_count": null,
   "id": "6a753f63",
   "metadata": {},
   "outputs": [],
   "source": []
  },
  {
   "cell_type": "code",
   "execution_count": null,
   "id": "cc317794",
   "metadata": {},
   "outputs": [],
   "source": []
  },
  {
   "cell_type": "code",
   "execution_count": null,
   "id": "e14791f2",
   "metadata": {},
   "outputs": [],
   "source": []
  },
  {
   "cell_type": "code",
   "execution_count": null,
   "id": "e124a323",
   "metadata": {},
   "outputs": [],
   "source": []
  },
  {
   "cell_type": "code",
   "execution_count": null,
   "id": "930da88c",
   "metadata": {},
   "outputs": [],
   "source": []
  },
  {
   "cell_type": "code",
   "execution_count": null,
   "id": "278727df",
   "metadata": {},
   "outputs": [],
   "source": []
  }
 ],
 "metadata": {
  "kernelspec": {
   "display_name": "Python 3 (ipykernel)",
   "language": "python",
   "name": "python3"
  },
  "language_info": {
   "codemirror_mode": {
    "name": "ipython",
    "version": 3
   },
   "file_extension": ".py",
   "mimetype": "text/x-python",
   "name": "python",
   "nbconvert_exporter": "python",
   "pygments_lexer": "ipython3",
   "version": "3.9.13"
  }
 },
 "nbformat": 4,
 "nbformat_minor": 5
}
