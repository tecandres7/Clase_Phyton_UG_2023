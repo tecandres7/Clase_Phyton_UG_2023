{
 "cells": [
  {
   "cell_type": "code",
   "execution_count": 12,
   "metadata": {},
   "outputs": [],
   "source": [
    "import pandas as pd\n",
    "import numpy as np\n",
    "from faker import Faker\n",
    "import random\n",
    "import datetime\n",
    "import boto3\n",
    "import psycopg2\n",
    "import configparser\n",
    "import pymysql"
   ]
  },
  {
   "cell_type": "markdown",
   "metadata": {},
   "source": [
    "#### Iniciación de Variables"
   ]
  },
  {
   "cell_type": "code",
   "execution_count": 13,
   "metadata": {},
   "outputs": [],
   "source": [
    "cantidad_clientes = np.random.randint(500, 1000) #cantidad de clientes a crear\n",
    "rdsIdentifier = 'travel' #nombre de la instancia\n",
    "fake = Faker() #inicialización para creación de data random"
   ]
  },
  {
   "cell_type": "markdown",
   "metadata": {},
   "source": [
    "#### Cargamos archivo de configuraciones"
   ]
  },
  {
   "cell_type": "code",
   "execution_count": 14,
   "metadata": {},
   "outputs": [
    {
     "data": {
      "text/plain": [
       "['escec.cfg']"
      ]
     },
     "execution_count": 14,
     "metadata": {},
     "output_type": "execute_result"
    }
   ],
   "source": [
    "config = configparser.ConfigParser()\n",
    "config.read('escec.cfg')"
   ]
  },
  {
   "cell_type": "markdown",
   "metadata": {},
   "source": [
    "### Creamos Instancia de RDS "
   ]
  },
  {
   "cell_type": "code",
   "execution_count": 15,
   "metadata": {},
   "outputs": [],
   "source": [
    "aws_conn = boto3.client('rds', aws_access_key_id=config.get('IAM', 'ACCESS_KEY'),\n",
    "                    aws_secret_access_key=config.get('IAM', 'SECRET_ACCESS_KEY'),\n",
    "                    region_name='us-east-1')"
   ]
  },
  {
   "cell_type": "markdown",
   "metadata": {},
   "source": [
    "#### Verificamos Instancias de RDS disponibles"
   ]
  },
  {
   "cell_type": "code",
   "execution_count": 16,
   "metadata": {},
   "outputs": [
    {
     "name": "stdout",
     "output_type": "stream",
     "text": [
      "DBInstanceIds ['banco-db', 'travel']\n"
     ]
    }
   ],
   "source": [
    "rdsInstanceIds = []\n",
    "\n",
    "response = aws_conn.describe_db_instances()\n",
    "for resp in response['DBInstances']:\n",
    "    rdsInstanceIds.append(resp['DBInstanceIdentifier'])\n",
    "    db_instance_status = resp['DBInstanceStatus']\n",
    "\n",
    "print(f\"DBInstanceIds {rdsInstanceIds}\")"
   ]
  },
  {
   "cell_type": "markdown",
   "metadata": {},
   "source": [
    "#### Creación de Servicio RDS"
   ]
  },
  {
   "cell_type": "code",
   "execution_count": 17,
   "metadata": {},
   "outputs": [
    {
     "name": "stdout",
     "output_type": "stream",
     "text": [
      "La Instancia de Base de Datos ya Existe.\n"
     ]
    }
   ],
   "source": [
    "try:\n",
    "    response = aws_conn.create_db_instance(\n",
    "            AllocatedStorage=10,\n",
    "            DBName=config.get('RDS', 'DB_NAME'),\n",
    "            DBInstanceIdentifier=rdsIdentifier,\n",
    "            DBInstanceClass=\"db.t3.micro\",\n",
    "            Engine=\"postgres\",\n",
    "            MasterUsername=config.get('RDS', 'DB_USER'),\n",
    "            MasterUserPassword=config.get('RDS', 'DB_PASSWORD'),\n",
    "            Port=int(config.get('RDS', 'DB_PORT')),\n",
    "            VpcSecurityGroupIds=[config.get('VPC', 'SECURITY_GROUP')],\n",
    "            PubliclyAccessible=True\n",
    "        )\n",
    "    print(response)\n",
    "except aws_conn.exceptions.DBInstanceAlreadyExistsFault as ex:\n",
    "    print(\"La Instancia de Base de Datos ya Existe.\")"
   ]
  },
  {
   "cell_type": "markdown",
   "metadata": {},
   "source": [
    "##### Recordemos Esperar unos minutos para consultar la informaicón de la instancia."
   ]
  },
  {
   "cell_type": "markdown",
   "metadata": {},
   "source": [
    "##### Obtenemos URL del Host"
   ]
  },
  {
   "cell_type": "code",
   "execution_count": 20,
   "metadata": {},
   "outputs": [
    {
     "name": "stdout",
     "output_type": "stream",
     "text": [
      "travel.cnelrr1vhuaq.us-east-1.rds.amazonaws.com\n"
     ]
    }
   ],
   "source": [
    "try:\n",
    "     instances = aws_conn.describe_db_instances(DBInstanceIdentifier=rdsIdentifier)\n",
    "     RDS_HOST = instances.get('DBInstances')[0].get('Endpoint').get('Address')\n",
    "     print(RDS_HOST)\n",
    "except Exception as ex:\n",
    "     print(\"La instancia de base de datos no existe o aun no se ha terminado de crear.\")\n",
    "     print(ex)"
   ]
  },
  {
   "cell_type": "markdown",
   "metadata": {},
   "source": [
    "##### Conexión a Base de Datos desde Python"
   ]
  },
  {
   "cell_type": "code",
   "execution_count": 23,
   "metadata": {},
   "outputs": [
    {
     "ename": "SyntaxError",
     "evalue": "invalid syntax (sql_queries.py, line 1)",
     "output_type": "error",
     "traceback": [
      "Traceback \u001b[1;36m(most recent call last)\u001b[0m:\n",
      "\u001b[0m  File \u001b[0;32m~\\anaconda3\\envs\\py3-TF2.0\\lib\\site-packages\\IPython\\core\\interactiveshell.py:3433\u001b[0m in \u001b[0;35mrun_code\u001b[0m\n    exec(code_obj, self.user_global_ns, self.user_ns)\u001b[0m\n",
      "\u001b[1;36m  Cell \u001b[1;32mIn[23], line 1\u001b[1;36m\n\u001b[1;33m    import sql_queries\u001b[1;36m\n",
      "\u001b[1;36m  File \u001b[1;32m~\\Proyectos Git\\ProyectoFinalPython\\sql_queries.py:1\u001b[1;36m\u001b[0m\n\u001b[1;33m    DDL_QUERY =\u001b[0m\n\u001b[1;37m                 ^\u001b[0m\n\u001b[1;31mSyntaxError\u001b[0m\u001b[1;31m:\u001b[0m invalid syntax\n"
     ]
    }
   ],
   "source": [
    "import sql_queries\n",
    "\n",
    "\n",
    "try:\n",
    "    db_conn = psycopg2.connect(\n",
    "        database=config.get('RDS', 'DB_NAME'), \n",
    "        user=config.get('RDS', 'DB_USER'),\n",
    "        password=config.get('RDS', 'DB_PASSWORD'), \n",
    "        host=RDS_HOST,\n",
    "        port=config.get('RDS', 'DB_PORT')\n",
    "    )\n",
    "\n",
    "    cursor = db_conn.cursor()\n",
    "    cursor.execute(sql_queries.DDL_QUERY)\n",
    "    db_conn.commit()\n",
    "    print(\"Base de Datos Creada Exitosamente\")\n",
    "except Exception as ex:\n",
    "    print(\"ERROR: Error al crear la base de datos.\")\n",
    "    print(ex)\n"
   ]
  },
  {
   "cell_type": "markdown",
   "metadata": {},
   "source": [
    "##### Insertamos Datos en la Tabla de Transacciones"
   ]
  },
  {
   "cell_type": "code",
   "execution_count": 38,
   "metadata": {},
   "outputs": [],
   "source": [
    "def insertDataToSQL(data_dict, table_name):\n",
    "    #postgres_driver = f\"\"\"postgresql://{config.get('RDS', 'DB_USER')}:{config.get('RDS', 'DB_PASSWORD')}@{RDS_HOST}:{config.get('RDS', 'DB_PORT')}/{config.get('RDS', 'DB_NAME')}\"\"\"    \n",
    "    mysql_driver = f\"\"\"mysql+pymysql://{config.get('RDS_MYSQL', 'DB_USER')}:{config.get('RDS_MYSQL', 'DB_PASSWORD')}@{RDS_DW_HOST}:{config.get('RDS_MYSQL', 'DB_PORT')}/{config.get('RDS_MYSQL', 'DB_NAME')}\"\"\"  \n",
    "    #df_data = pd.DataFrame.from_records(data_dict)\n",
    "     try:\n",
    "          response = df_data.to_sql(table_name, postgres_driver, index=False, if_exists='append')\n",
    "          print(f'Se han insertado {response} nuevos registros.' )\n",
    "     except Exception as ex:\n",
    "          print(ex)"
   ]
  },
  {
   "cell_type": "code",
   "execution_count": 39,
   "metadata": {},
   "outputs": [
    {
     "name": "stdout",
     "output_type": "stream",
     "text": [
      "Se han insertado 4 nuevos registros.\n"
     ]
    }
   ],
   "source": [
    "data_tipo_transaciones = [\n",
    "     {'id_tipo_transac': 85095, 'tipo_transaccion': 'Depóito'}, \n",
    "     {'id_tipo_transac': 85098, 'tipo_transaccion': 'Retiro'},\n",
    "     {'id_tipo_transac': 85194, 'tipo_transaccion': 'Transferencia'},\n",
    "     {'id_tipo_transac': 85133, 'tipo_transaccion': 'Pago Prestamo'}\n",
    "]\n",
    "\n",
    "#insertamos data en tabla tipo_transaccione \n",
    "insertDataToSQL(data_tipo_transaciones, 'tipo_transacciones')"
   ]
  },
  {
   "cell_type": "code",
   "execution_count": null,
   "metadata": {},
   "outputs": [],
   "source": []
  },
  {
   "cell_type": "code",
   "execution_count": null,
   "metadata": {},
   "outputs": [],
   "source": []
  },
  {
   "cell_type": "markdown",
   "metadata": {},
   "source": [
    "##### Insertamos Datos en la Tabla de Divisas"
   ]
  },
  {
   "cell_type": "markdown",
   "metadata": {},
   "source": [
    "#### Insertamos Data para Divisas"
   ]
  },
  {
   "cell_type": "code",
   "execution_count": 40,
   "metadata": {},
   "outputs": [
    {
     "name": "stdout",
     "output_type": "stream",
     "text": [
      "Se han insertado 3 nuevos registros.\n"
     ]
    }
   ],
   "source": [
    "data_divisas = [\n",
    "     {'id_divisa': 103589, 'nombre_divisa': 'Quetzales', 'simbolo': 'Q'}, \n",
    "     {'id_divisa': 114589, 'nombre_divisa': 'Dolares', 'simbolo': '$'},\n",
    "     {'id_divisa': 125487, 'nombre_divisa': 'Euros', 'simbolo': '€'}\n",
    "]\n",
    "\n",
    "insertDataToSQL(data_divisas, 'divisas')"
   ]
  },
  {
   "cell_type": "markdown",
   "metadata": {},
   "source": [
    "##### Insertamos Data para tipo_documentos"
   ]
  },
  {
   "cell_type": "code",
   "execution_count": 41,
   "metadata": {},
   "outputs": [
    {
     "name": "stdout",
     "output_type": "stream",
     "text": [
      "Se han insertado 3 nuevos registros.\n"
     ]
    }
   ],
   "source": [
    "data_tipo_documentos = [\n",
    "     {'id_tipo_documento': 103589, 'nombre_tipo_documento': 'Recibo'}, \n",
    "     {'id_tipo_documento': 114589, 'nombre_tipo_documento': 'Cheque'},\n",
    "     {'id_tipo_documento': 125487, 'nombre_tipo_documento': 'Contrato 101' }\n",
    "]\n",
    "\n",
    "insertDataToSQL(data_tipo_documentos, 'tipo_documentos')\n"
   ]
  },
  {
   "cell_type": "markdown",
   "metadata": {},
   "source": [
    "##### Insertamos Data para Generos"
   ]
  },
  {
   "cell_type": "code",
   "execution_count": 42,
   "metadata": {},
   "outputs": [
    {
     "name": "stdout",
     "output_type": "stream",
     "text": [
      "Se han insertado 2 nuevos registros.\n"
     ]
    }
   ],
   "source": [
    "data_generos = [\n",
    "     {'id_genero': 2002, 'genero': 'Maculino'}, \n",
    "     {'id_genero': 2003, 'genero': 'Femenino'}\n",
    "]\n",
    "\n",
    "insertDataToSQL(data_generos, 'generos')"
   ]
  },
  {
   "cell_type": "markdown",
   "metadata": {},
   "source": [
    "##### Insertamos Data para Sectores"
   ]
  },
  {
   "cell_type": "code",
   "execution_count": 43,
   "metadata": {},
   "outputs": [
    {
     "name": "stdout",
     "output_type": "stream",
     "text": [
      "Se han insertado 7 nuevos registros.\n"
     ]
    }
   ],
   "source": [
    "data_sectores = [\n",
    "    {'id_sector': 58974, 'nombre': 'Centro', 'latitud': 90.5689, 'longitud': 91.5687},\n",
    "    {'id_sector': 58978, 'nombre': 'Centro Sur', 'latitud': 90.5981, 'longitud': 91.56878},\n",
    "    {'id_sector': 58998, 'nombre': 'Centro Norte', 'latitud': 90.59875, 'longitud': 91.59897},\n",
    "    {'id_sector': 58784, 'nombre': 'Sur Este', 'latitud': 90.78785, 'longitud': 91.4578},\n",
    "    {'id_sector': 78786, 'nombre': 'Norte Este', 'latitud': 90.5689, 'longitud': 91.5687},\n",
    "    {'id_sector': 56565, 'nombre': 'Sur Oeste', 'latitud': 90.4412, 'longitud': 91.9897},\n",
    "    {'id_sector': 58889, 'nombre': 'Norte Oeste', 'latitud': 90.78745, 'longitud': 91.78897}\n",
    "]\n",
    "insertDataToSQL(data_sectores, 'sectores')"
   ]
  },
  {
   "cell_type": "markdown",
   "metadata": {},
   "source": [
    "##### Insertamos Data para Direcciones"
   ]
  },
  {
   "cell_type": "code",
   "execution_count": 44,
   "metadata": {},
   "outputs": [
    {
     "name": "stdout",
     "output_type": "stream",
     "text": [
      "Se han insertado 987 nuevos registros.\n"
     ]
    }
   ],
   "source": [
    "data_direcciones = []\n",
    "\n",
    "for index, direccion in enumerate(range(cantidad_clientes)):\n",
    "    sector_random = random.sample(data_sectores,1)\n",
    "    nueva_direccion = {\n",
    "          'id_direccion': index,\n",
    "          'no_casa': str(np.random.randint(1, 99)) + '-' + str(np.random.randint(1, 99)),\n",
    "          'avenida': np.random.randint(1, 45),\n",
    "          'calle':np.random.randint(1, 50),\n",
    "          'zona':np.random.randint(1, 21),\n",
    "          'id_sector' : sector_random[0]['id_sector']\n",
    "    }\n",
    "\n",
    "    data_direcciones.append(nueva_direccion)\n",
    "insertDataToSQL(data_direcciones, 'direcciones')"
   ]
  },
  {
   "cell_type": "markdown",
   "metadata": {},
   "source": [
    "##### Insertamos Data para Clientes"
   ]
  },
  {
   "cell_type": "code",
   "execution_count": 45,
   "metadata": {},
   "outputs": [
    {
     "name": "stdout",
     "output_type": "stream",
     "text": [
      "Se han insertado 987 nuevos registros.\n"
     ]
    }
   ],
   "source": [
    "data_clientes = []\n",
    "data_direcciones_copy = data_direcciones.copy() #copia por valor.\n",
    "\n",
    "for cliente in range(cantidad_clientes):\n",
    "    clientProfile = fake.profile()\n",
    "    direccion_random = random.sample(data_direcciones_copy, 1)\n",
    "    data_direcciones_copy.remove(direccion_random[0])\n",
    "    nuevo_cliente = {\n",
    "        'id_cliente': random.randint(10000000, 99999999),\n",
    "        'nombre': clientProfile['name'].split(' ')[0],\n",
    "        'apellido': clientProfile['name'].split(' ')[1],\n",
    "        'correo': clientProfile['mail'],\n",
    "        'fecha_nacimiento': clientProfile['birthdate'],\n",
    "        'telefono': clientProfile['ssn'],\n",
    "        'id_direccion': direccion_random[0]['id_direccion'],\n",
    "        'id_genero': data_generos[0]['id_genero'] if(clientProfile['sex'] == 'M') else data_generos[1]['id_genero'] \n",
    "    }\n",
    "\n",
    "    data_clientes.append(nuevo_cliente)\n",
    "\n",
    "insertDataToSQL(data_clientes, 'clientes')"
   ]
  },
  {
   "cell_type": "markdown",
   "metadata": {},
   "source": [
    "##### Insertamos Data de Cargos"
   ]
  },
  {
   "cell_type": "code",
   "execution_count": 46,
   "metadata": {},
   "outputs": [
    {
     "name": "stdout",
     "output_type": "stream",
     "text": [
      "Se han insertado 3 nuevos registros.\n"
     ]
    }
   ],
   "source": [
    "data_cargos = [\n",
    "    {'id_cargo': 101, 'titulo_cargo': 'Cajero - Receptor'},\n",
    "    {'id_cargo': 202, 'titulo_cargo': 'Gerente de Sucursal'},\n",
    "    {'id_cargo': 303, 'titulo_cargo': 'Supervisor de Sector'}\n",
    "]\n",
    "insertDataToSQL(data_cargos, 'cargos')"
   ]
  },
  {
   "cell_type": "markdown",
   "metadata": {},
   "source": [
    "##### Insertamos Data de Colaboradores"
   ]
  },
  {
   "cell_type": "code",
   "execution_count": 47,
   "metadata": {},
   "outputs": [
    {
     "name": "stdout",
     "output_type": "stream",
     "text": [
      "Se han insertado 63 nuevos registros.\n"
     ]
    }
   ],
   "source": [
    "cantidad_colaboradores = np.random.randint(50, 150)\n",
    "data_colaboradores = []\n",
    "\n",
    "for colab in range(cantidad_colaboradores):\n",
    "    colaboradorProfile = fake.profile()\n",
    "    nuevo_colaborador = {\n",
    "        'id_colaborador': random.randint(10000, 99999),\n",
    "        'nombre': colaboradorProfile['name'].split(' ')[0],\n",
    "        'apellido': colaboradorProfile['name'].split(' ')[1], \n",
    "        'id_cargo': random.choices(data_cargos, weights=(0.6, 0.3, 0.1),  k=1)[0]['id_cargo']\n",
    "    }\n",
    "\n",
    "    data_colaboradores.append(nuevo_colaborador)\n",
    "insertDataToSQL(data_colaboradores, 'colaboradores')"
   ]
  },
  {
   "cell_type": "markdown",
   "metadata": {},
   "source": [
    "##### Insertamos Data de Sucursales"
   ]
  },
  {
   "cell_type": "code",
   "execution_count": 48,
   "metadata": {},
   "outputs": [
    {
     "name": "stdout",
     "output_type": "stream",
     "text": [
      "Se han insertado 15 nuevos registros.\n"
     ]
    }
   ],
   "source": [
    "managers = [colaborator for colaborator in data_colaboradores if colaborator['id_cargo'] == 202]\n",
    "cantidad_sucursales =  len(managers)\n",
    "managers_copy = managers.copy()\n",
    "data_sucursales = []\n",
    "\n",
    "for sucursal in range(cantidad_sucursales):\n",
    "    #seleccionamos gerente para sucursal\n",
    "    manager = random.sample(managers_copy, 1)[0]\n",
    "    managers_copy.remove(manager)\n",
    "\n",
    "    #seleccionamos sector.\n",
    "    sector_random = random.sample(data_sectores,1)[0]['id_sector']\n",
    "    \n",
    "    #nombre de la sucursal\n",
    "    sucursal_profile = fake.profile()\n",
    "    nombre_sucursal = sucursal_profile['residence'].split('\\n')[0]\n",
    "    nombre_sucursal = ''.join([i for i in nombre_sucursal if not i.isdigit()]).strip()\n",
    "\n",
    "    nueva_sucursal = {\n",
    "        'id_sucursal': np.random.randint(180000, 190000),\n",
    "        'nombre': nombre_sucursal,\n",
    "        'id_sector': sector_random,\n",
    "        'id_gerente': manager['id_colaborador']\n",
    "    }\n",
    "\n",
    "    data_sucursales.append(nueva_sucursal)\n",
    "\n",
    "insertDataToSQL(data_sucursales, 'sucursales')"
   ]
  },
  {
   "cell_type": "markdown",
   "metadata": {},
   "source": [
    "##### Insertamos Datos de tipo_cuentas"
   ]
  },
  {
   "cell_type": "code",
   "execution_count": 49,
   "metadata": {},
   "outputs": [
    {
     "name": "stdout",
     "output_type": "stream",
     "text": [
      "Se han insertado 6 nuevos registros.\n"
     ]
    }
   ],
   "source": [
    "data_tipoCuentas = [\n",
    "    {'id_tipo_cuenta': 90025, 'tipo_cuenta': 'Monetaria Quetzales'},\n",
    "    {'id_tipo_cuenta': 90026, 'tipo_cuenta': 'Monetaria Dolares'},\n",
    "    {'id_tipo_cuenta': 90036, 'tipo_cuenta': 'Ahorro Quetzales'},\n",
    "    {'id_tipo_cuenta': 90078, 'tipo_cuenta': 'Ahorro Dolares'},\n",
    "    {'id_tipo_cuenta': 90044, 'tipo_cuenta': 'Cheques Quetzales'},\n",
    "    {'id_tipo_cuenta': 90019, 'tipo_cuenta': 'Cheques Dolares'}\n",
    "]\n",
    "insertDataToSQL(data_tipoCuentas, 'tipos_cuentas')"
   ]
  },
  {
   "cell_type": "markdown",
   "metadata": {},
   "source": [
    "##### Insertamos Data para Cuentas"
   ]
  },
  {
   "cell_type": "code",
   "execution_count": 50,
   "metadata": {},
   "outputs": [
    {
     "name": "stdout",
     "output_type": "stream",
     "text": [
      "Se han insertado 987 nuevos registros.\n"
     ]
    }
   ],
   "source": [
    "data_cuentas = []\n",
    "df_data_clientes = pd.DataFrame.from_records(data_clientes)\n",
    "\n",
    "for idnex, df_row in df_data_clientes.iterrows():\n",
    "     nombre_cuenta = df_row['nombre'] + ' ' + df_row['apellido']\n",
    "     nueva_cuenta = {\n",
    "          'id_cuenta' : np.random.randint(1000000, 9999999),\n",
    "          'nombre_cuenta' : nombre_cuenta,\n",
    "          'id_tipo_cuenta': random.sample(data_tipoCuentas, 1)[0]['id_tipo_cuenta'],\n",
    "          'balance': round(random.uniform(100, 1000), 2)\n",
    "     }\n",
    "\n",
    "     data_cuentas.append(nueva_cuenta)\n",
    "insertDataToSQL(data_cuentas, 'cuentas')"
   ]
  },
  {
   "cell_type": "markdown",
   "metadata": {},
   "source": [
    "##### Insertamos Data de Transacciones"
   ]
  },
  {
   "cell_type": "code",
   "execution_count": 52,
   "metadata": {},
   "outputs": [
    {
     "name": "stdout",
     "output_type": "stream",
     "text": [
      "(psycopg2.errors.UniqueViolation) duplicate key value violates unique constraint \"transacciones_pkey\"\n",
      "DETAIL:  Key (id_transaccion)=(1387514) already exists.\n",
      "\n",
      "[SQL: INSERT INTO transacciones (id_transaccion, fecha_hora, monto, id_tipo_transaccion, id_divisa, id_cliente, id_sucursal, id_colaborador, id_documento_respaldo, id_cuenta_origen, id_cuenta_destino) VALUES (%(id_transaccion)s, %(fecha_hora)s, %(monto)s, %(id_tipo_transaccion)s, %(id_divisa)s, %(id_cliente)s, %(id_sucursal)s, %(id_colaborador)s, %(id_documento_respaldo)s, %(id_cuenta_origen)s, %(id_cuenta_destino)s)]\n",
      "[parameters: ({'id_transaccion': 174093, 'fecha_hora': datetime.datetime(2023, 2, 14, 18, 49, 26), 'monto': 6224.65, 'id_tipo_transaccion': 85098, 'id_divisa': 103589, 'id_cliente': 86552167, 'id_sucursal': 186189, 'id_colaborador': 38587, 'id_documento_respaldo': 125487, 'id_cuenta_origen': 9499808, 'id_cuenta_destino': 4231921}, {'id_transaccion': 8758470, 'fecha_hora': datetime.datetime(2023, 2, 9, 7, 49, 43), 'monto': 7407.8, 'id_tipo_transaccion': 85095, 'id_divisa': 125487, 'id_cliente': 53368790, 'id_sucursal': 183599, 'id_colaborador': 43245, 'id_documento_respaldo': 103589, 'id_cuenta_origen': 4426010, 'id_cuenta_destino': 9501771}, {'id_transaccion': 9134201, 'fecha_hora': datetime.datetime(2023, 1, 4, 6, 11, 3), 'monto': 6023.24, 'id_tipo_transaccion': 85095, 'id_divisa': 114589, 'id_cliente': 17473719, 'id_sucursal': 187217, 'id_colaborador': 41404, 'id_documento_respaldo': 103589, 'id_cuenta_origen': 1670309, 'id_cuenta_destino': 9501771}, {'id_transaccion': 1862507, 'fecha_hora': datetime.datetime(2023, 1, 13, 5, 43, 53), 'monto': 9819.23, 'id_tipo_transaccion': 85098, 'id_divisa': 125487, 'id_cliente': 61594372, 'id_sucursal': 180571, 'id_colaborador': 81716, 'id_documento_respaldo': 103589, 'id_cuenta_origen': 1670309, 'id_cuenta_destino': 1827558}, {'id_transaccion': 9857916, 'fecha_hora': datetime.datetime(2023, 2, 28, 22, 16, 4), 'monto': 3885.81, 'id_tipo_transaccion': 85098, 'id_divisa': 125487, 'id_cliente': 75110201, 'id_sucursal': 181192, 'id_colaborador': 47176, 'id_documento_respaldo': 103589, 'id_cuenta_origen': 2306587, 'id_cuenta_destino': 4493577}, {'id_transaccion': 7083089, 'fecha_hora': datetime.datetime(2023, 3, 14, 19, 46, 42), 'monto': 2900.15, 'id_tipo_transaccion': 85095, 'id_divisa': 103589, 'id_cliente': 50202887, 'id_sucursal': 185682, 'id_colaborador': 81716, 'id_documento_respaldo': 114589, 'id_cuenta_origen': 2278532, 'id_cuenta_destino': 7584309}, {'id_transaccion': 2707928, 'fecha_hora': datetime.datetime(2023, 1, 17, 13, 29), 'monto': 8736.2, 'id_tipo_transaccion': 85133, 'id_divisa': 114589, 'id_cliente': 76044198, 'id_sucursal': 185682, 'id_colaborador': 45605, 'id_documento_respaldo': 125487, 'id_cuenta_origen': 4371042, 'id_cuenta_destino': 2474831}, {'id_transaccion': 6546711, 'fecha_hora': datetime.datetime(2023, 3, 17, 13, 7, 16), 'monto': 1415.23, 'id_tipo_transaccion': 85098, 'id_divisa': 103589, 'id_cliente': 72298000, 'id_sucursal': 185221, 'id_colaborador': 13087, 'id_documento_respaldo': 103589, 'id_cuenta_origen': 3443290, 'id_cuenta_destino': 5366269}  ... displaying 10 of 916671 total bound parameter sets ...  {'id_transaccion': 7505354, 'fecha_hora': datetime.datetime(2023, 2, 1, 21, 34, 49), 'monto': 9751.34, 'id_tipo_transaccion': 85194, 'id_divisa': 114589, 'id_cliente': 99936961, 'id_sucursal': 187046, 'id_colaborador': 79561, 'id_documento_respaldo': 103589, 'id_cuenta_origen': 8560854, 'id_cuenta_destino': 6349035}, {'id_transaccion': 6837812, 'fecha_hora': datetime.datetime(2023, 1, 21, 4, 8, 29), 'monto': 6481.01, 'id_tipo_transaccion': 85095, 'id_divisa': 114589, 'id_cliente': 84351906, 'id_sucursal': 185221, 'id_colaborador': 38587, 'id_documento_respaldo': 114589, 'id_cuenta_origen': 9345481, 'id_cuenta_destino': 4482899})]\n",
      "(Background on this error at: https://sqlalche.me/e/14/gkpj)\n"
     ]
    }
   ],
   "source": [
    "cantidad_transacciones = np.random.randint(100000, 999999)\n",
    "data_transacciones = []\n",
    "\n",
    "for transac in range(cantidad_transacciones):\n",
    "    nueva_transaccion = {\n",
    "            'id_transaccion': np.random.randint(100000, 9999999),\n",
    "            'fecha_hora': fake.date_time_this_year(),\n",
    "            'monto': round(random.uniform(1000, 10000), 2),\n",
    "            'id_tipo_transaccion': random.sample(data_tipo_transaciones, 1)[0]['id_tipo_transac'],\n",
    "            'id_divisa':  random.sample(data_divisas, 1)[0]['id_divisa'],\n",
    "            'id_cliente': random.sample(data_clientes, 1)[0]['id_cliente'],\n",
    "            'id_sucursal': random.sample(data_sucursales, 1)[0]['id_sucursal'],\n",
    "            'id_colaborador': random.sample(data_colaboradores, 1)[0]['id_colaborador'],\n",
    "            'id_documento_respaldo': random.sample(data_tipo_documentos, 1)[0]['id_tipo_documento'],\n",
    "            'id_cuenta_origen' : random.sample(data_cuentas, 1)[0]['id_cuenta'],\n",
    "            'id_cuenta_destino':random.sample(data_cuentas, 1)[0]['id_cuenta']\n",
    "        }\n",
    "    \n",
    "    data_transacciones.append(nueva_transaccion)\n",
    "    \n",
    "insertDataToSQL(data_transacciones, 'transacciones')"
   ]
  }
 ],
 "metadata": {
  "kernelspec": {
   "display_name": "Python 3 (ipykernel)",
   "language": "python",
   "name": "python3"
  },
  "language_info": {
   "codemirror_mode": {
    "name": "ipython",
    "version": 3
   },
   "file_extension": ".py",
   "mimetype": "text/x-python",
   "name": "python",
   "nbconvert_exporter": "python",
   "pygments_lexer": "ipython3",
   "version": "3.10.9"
  },
  "vscode": {
   "interpreter": {
    "hash": "48168050f1fe731b302b63a744aad32afdf0a66ee6e49905924ec3fd4edeb196"
   }
  }
 },
 "nbformat": 4,
 "nbformat_minor": 2
}
